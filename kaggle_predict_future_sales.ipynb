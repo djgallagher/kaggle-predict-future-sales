{
 "cells": [
  {
   "cell_type": "markdown",
   "metadata": {},
   "source": [
    "# Predict Future Sales"
   ]
  },
  {
   "cell_type": "markdown",
   "metadata": {},
   "source": [
    "### Objective\n",
    "\n",
    "You are provided with daily historical sales data. The task is to forecast the total amount of products sold in every shop for the test set. Note that the list of shops and products slightly changes every month. Creating a robust model that can handle such situations is part of the challenge.\n",
    "\n"
   ]
  },
  {
   "cell_type": "markdown",
   "metadata": {},
   "source": [
    "### File descriptions\n",
    "* sales_train.csv - the training set. Daily historical data from January 2013 to October 2015.\n",
    "* test.csv - the test set. You need to forecast the sales for these shops and products for November 2015.\n",
    "* sample_submission.csv - a sample submission file in the correct format.\n",
    "* items.csv - supplemental information about the items/products.\n",
    "* item_categories.csv  - supplemental information about the items categories.\n",
    "* shops.csv- supplemental information about the shops."
   ]
  },
  {
   "cell_type": "markdown",
   "metadata": {},
   "source": [
    "### Data fields\n",
    "\n",
    "* ID - an Id that represents a (Shop, Item) tuple within the test set\n",
    "* shop_id - unique identifier of a shop\n",
    "* item_id - unique identifier of a product\n",
    "* item_category_id - unique identifier of item category\n",
    "* item_cnt_day - number of products sold. You are predicting a monthly amount of this measure\n",
    "* item_price - current price of an item\n",
    "* date - date in format dd/mm/yyyy\n",
    "* date_block_num - a consecutive month number, used for convenience. January 2013 is 0, February 2013 is 1,..., October 2015 is 33\n",
    "* item_name - name of item\n",
    "* shop_name - name of shop\n",
    "* item_category_name - name of item category"
   ]
  },
  {
   "cell_type": "markdown",
   "metadata": {},
   "source": [
    "### Evaluation\n",
    "\n",
    "Submissions are evaluated by root mean squared error (RMSE). True target values are clipped into [0,20] range.\n",
    "\n"
   ]
  },
  {
   "cell_type": "markdown",
   "metadata": {},
   "source": [
    "### Aknowledgements\n",
    "\n",
    "https://www.kaggle.com/c/competitive-data-science-predict-future-sales/"
   ]
  },
  {
   "cell_type": "markdown",
   "metadata": {},
   "source": [
    "### Project findings\n",
    "\n",
    "The main takeway from this project is that a good cross validation score when testing does not necessarily result in an accurate prediction on new data. A Root Mean Squared Error (RMSE) of 0.45 on the test set was not matched by a score of 1 when uploading prediction of the new data to kaggle, where it achieved a disappointing score of 1.04.\n",
    "\n",
    "Considering the number of observations in the new set that have no history from which to predict, a stacked solution consisting of different prediction methods could be used to achieve a higher position on the leaderboard.\n",
    "\n"
   ]
  },
  {
   "cell_type": "markdown",
   "metadata": {},
   "source": [
    "### Machine learning problem\n",
    "\n",
    "Predicting a sales amount is a regression problem. This project compares different ensemble methods with hyperparameter tuning. Moreover, I considered the problem to be time-series sensitive and prepared the training data to reflect this."
   ]
  },
  {
   "cell_type": "markdown",
   "metadata": {},
   "source": [
    "### About me\n",
    "\n",
    "As a data enthusiast, there was no formal computer science, mathematics, or statistics education for me. However, I value continuous learning and I hope that this machine learning project will showcase much of what I have learned through the Elite Data Science Machine Learning Accelerator course."
   ]
  },
  {
   "cell_type": "markdown",
   "metadata": {},
   "source": [
    "# Library imports"
   ]
  },
  {
   "cell_type": "code",
   "execution_count": 10,
   "metadata": {},
   "outputs": [],
   "source": [
    "# numpy for computation\n",
    "import numpy as np\n",
    "\n",
    "# pandas for dataframes\n",
    "import pandas as pd\n",
    "pd.set_option('display.max_columns', 100)\n",
    "#pd.set_option('float_format', '{:0f}'.format)\n",
    "\n",
    "# matplotlib for visualization\n",
    "from matplotlib import pyplot as plt\n",
    "%matplotlib inline\n",
    "\n",
    "# seaborn for easy visualization\n",
    "import seaborn as sns\n",
    "sns.set_style('darkgrid')\n",
    "\n",
    "# pipeline\n",
    "from sklearn.pipeline import make_pipeline\n",
    "\n",
    "# algos\n",
    "from sklearn.linear_model import ElasticNet\n",
    "from sklearn.ensemble import RandomForestRegressor, GradientBoostingRegressor\n",
    "\n",
    "# scaler\n",
    "from sklearn.preprocessing import StandardScaler\n",
    "\n",
    "# hyperparameter grid\n",
    "from sklearn.model_selection import GridSearchCV\n",
    "\n",
    "# metrics\n",
    "from sklearn.metrics import mean_squared_error\n",
    "\n",
    "# pickle to store model\n",
    "import pickle as pickle"
   ]
  },
  {
   "cell_type": "markdown",
   "metadata": {},
   "source": [
    "# 1. Load data"
   ]
  },
  {
   "cell_type": "code",
   "execution_count": 11,
   "metadata": {},
   "outputs": [
    {
     "name": "stdout",
     "output_type": "stream",
     "text": [
      "(2935849, 6)\n"
     ]
    },
    {
     "data": {
      "text/html": [
       "<div>\n",
       "<style scoped>\n",
       "    .dataframe tbody tr th:only-of-type {\n",
       "        vertical-align: middle;\n",
       "    }\n",
       "\n",
       "    .dataframe tbody tr th {\n",
       "        vertical-align: top;\n",
       "    }\n",
       "\n",
       "    .dataframe thead th {\n",
       "        text-align: right;\n",
       "    }\n",
       "</style>\n",
       "<table border=\"1\" class=\"dataframe\">\n",
       "  <thead>\n",
       "    <tr style=\"text-align: right;\">\n",
       "      <th></th>\n",
       "      <th>date</th>\n",
       "      <th>date_block_num</th>\n",
       "      <th>shop_id</th>\n",
       "      <th>item_id</th>\n",
       "      <th>item_price</th>\n",
       "      <th>item_cnt_day</th>\n",
       "    </tr>\n",
       "  </thead>\n",
       "  <tbody>\n",
       "    <tr>\n",
       "      <th>2935846</th>\n",
       "      <td>2015-10-14</td>\n",
       "      <td>33</td>\n",
       "      <td>25</td>\n",
       "      <td>7459</td>\n",
       "      <td>349.0</td>\n",
       "      <td>1.0</td>\n",
       "    </tr>\n",
       "    <tr>\n",
       "      <th>2935847</th>\n",
       "      <td>2015-10-22</td>\n",
       "      <td>33</td>\n",
       "      <td>25</td>\n",
       "      <td>7440</td>\n",
       "      <td>299.0</td>\n",
       "      <td>1.0</td>\n",
       "    </tr>\n",
       "    <tr>\n",
       "      <th>2935848</th>\n",
       "      <td>2015-10-03</td>\n",
       "      <td>33</td>\n",
       "      <td>25</td>\n",
       "      <td>7460</td>\n",
       "      <td>299.0</td>\n",
       "      <td>1.0</td>\n",
       "    </tr>\n",
       "  </tbody>\n",
       "</table>\n",
       "</div>"
      ],
      "text/plain": [
       "              date  date_block_num  shop_id  item_id  item_price  item_cnt_day\n",
       "2935846 2015-10-14              33       25     7459       349.0           1.0\n",
       "2935847 2015-10-22              33       25     7440       299.0           1.0\n",
       "2935848 2015-10-03              33       25     7460       299.0           1.0"
      ]
     },
     "execution_count": 11,
     "metadata": {},
     "output_type": "execute_result"
    }
   ],
   "source": [
    "# sales_train.csv to dataframe\n",
    "df_sales = pd.read_csv('data/sales_train.csv', parse_dates=['date'], dayfirst=True)\n",
    "\n",
    "print(df_sales.shape)\n",
    "df_sales.tail(3)"
   ]
  },
  {
   "cell_type": "code",
   "execution_count": 12,
   "metadata": {},
   "outputs": [
    {
     "name": "stdout",
     "output_type": "stream",
     "text": [
      "(214200, 3)\n"
     ]
    },
    {
     "data": {
      "text/html": [
       "<div>\n",
       "<style scoped>\n",
       "    .dataframe tbody tr th:only-of-type {\n",
       "        vertical-align: middle;\n",
       "    }\n",
       "\n",
       "    .dataframe tbody tr th {\n",
       "        vertical-align: top;\n",
       "    }\n",
       "\n",
       "    .dataframe thead th {\n",
       "        text-align: right;\n",
       "    }\n",
       "</style>\n",
       "<table border=\"1\" class=\"dataframe\">\n",
       "  <thead>\n",
       "    <tr style=\"text-align: right;\">\n",
       "      <th></th>\n",
       "      <th>ID</th>\n",
       "      <th>shop_id</th>\n",
       "      <th>item_id</th>\n",
       "    </tr>\n",
       "  </thead>\n",
       "  <tbody>\n",
       "    <tr>\n",
       "      <th>0</th>\n",
       "      <td>0</td>\n",
       "      <td>5</td>\n",
       "      <td>5037</td>\n",
       "    </tr>\n",
       "    <tr>\n",
       "      <th>1</th>\n",
       "      <td>1</td>\n",
       "      <td>5</td>\n",
       "      <td>5320</td>\n",
       "    </tr>\n",
       "    <tr>\n",
       "      <th>2</th>\n",
       "      <td>2</td>\n",
       "      <td>5</td>\n",
       "      <td>5233</td>\n",
       "    </tr>\n",
       "  </tbody>\n",
       "</table>\n",
       "</div>"
      ],
      "text/plain": [
       "   ID  shop_id  item_id\n",
       "0   0        5     5037\n",
       "1   1        5     5320\n",
       "2   2        5     5233"
      ]
     },
     "execution_count": 12,
     "metadata": {},
     "output_type": "execute_result"
    }
   ],
   "source": [
    "# test.csv to dataframe\n",
    "df_test = pd.read_csv('data/test.csv')\n",
    "print(df_test.shape)\n",
    "df_test.head(3)"
   ]
  },
  {
   "cell_type": "code",
   "execution_count": 13,
   "metadata": {},
   "outputs": [
    {
     "name": "stdout",
     "output_type": "stream",
     "text": [
      "(60, 2)\n"
     ]
    },
    {
     "data": {
      "text/html": [
       "<div>\n",
       "<style scoped>\n",
       "    .dataframe tbody tr th:only-of-type {\n",
       "        vertical-align: middle;\n",
       "    }\n",
       "\n",
       "    .dataframe tbody tr th {\n",
       "        vertical-align: top;\n",
       "    }\n",
       "\n",
       "    .dataframe thead th {\n",
       "        text-align: right;\n",
       "    }\n",
       "</style>\n",
       "<table border=\"1\" class=\"dataframe\">\n",
       "  <thead>\n",
       "    <tr style=\"text-align: right;\">\n",
       "      <th></th>\n",
       "      <th>shop_name</th>\n",
       "      <th>shop_id</th>\n",
       "    </tr>\n",
       "  </thead>\n",
       "  <tbody>\n",
       "    <tr>\n",
       "      <th>0</th>\n",
       "      <td>!Якутск Орджоникидзе, 56 фран</td>\n",
       "      <td>0</td>\n",
       "    </tr>\n",
       "    <tr>\n",
       "      <th>1</th>\n",
       "      <td>!Якутск ТЦ \"Центральный\" фран</td>\n",
       "      <td>1</td>\n",
       "    </tr>\n",
       "    <tr>\n",
       "      <th>2</th>\n",
       "      <td>Адыгея ТЦ \"Мега\"</td>\n",
       "      <td>2</td>\n",
       "    </tr>\n",
       "  </tbody>\n",
       "</table>\n",
       "</div>"
      ],
      "text/plain": [
       "                       shop_name  shop_id\n",
       "0  !Якутск Орджоникидзе, 56 фран        0\n",
       "1  !Якутск ТЦ \"Центральный\" фран        1\n",
       "2               Адыгея ТЦ \"Мега\"        2"
      ]
     },
     "execution_count": 13,
     "metadata": {},
     "output_type": "execute_result"
    }
   ],
   "source": [
    "# shops.csv to dataframe\n",
    "df_shop = pd.read_csv('data/shops.csv')\n",
    "print(df_shop.shape)\n",
    "df_shop.head(3)"
   ]
  },
  {
   "cell_type": "code",
   "execution_count": 14,
   "metadata": {},
   "outputs": [
    {
     "name": "stdout",
     "output_type": "stream",
     "text": [
      "(22170, 3)\n"
     ]
    },
    {
     "data": {
      "text/html": [
       "<div>\n",
       "<style scoped>\n",
       "    .dataframe tbody tr th:only-of-type {\n",
       "        vertical-align: middle;\n",
       "    }\n",
       "\n",
       "    .dataframe tbody tr th {\n",
       "        vertical-align: top;\n",
       "    }\n",
       "\n",
       "    .dataframe thead th {\n",
       "        text-align: right;\n",
       "    }\n",
       "</style>\n",
       "<table border=\"1\" class=\"dataframe\">\n",
       "  <thead>\n",
       "    <tr style=\"text-align: right;\">\n",
       "      <th></th>\n",
       "      <th>item_name</th>\n",
       "      <th>item_id</th>\n",
       "      <th>item_category_id</th>\n",
       "    </tr>\n",
       "  </thead>\n",
       "  <tbody>\n",
       "    <tr>\n",
       "      <th>0</th>\n",
       "      <td>! ВО ВЛАСТИ НАВАЖДЕНИЯ (ПЛАСТ.)         D</td>\n",
       "      <td>0</td>\n",
       "      <td>40</td>\n",
       "    </tr>\n",
       "    <tr>\n",
       "      <th>1</th>\n",
       "      <td>!ABBYY FineReader 12 Professional Edition Full...</td>\n",
       "      <td>1</td>\n",
       "      <td>76</td>\n",
       "    </tr>\n",
       "    <tr>\n",
       "      <th>2</th>\n",
       "      <td>***В ЛУЧАХ СЛАВЫ   (UNV)                    D</td>\n",
       "      <td>2</td>\n",
       "      <td>40</td>\n",
       "    </tr>\n",
       "  </tbody>\n",
       "</table>\n",
       "</div>"
      ],
      "text/plain": [
       "                                           item_name  item_id  \\\n",
       "0          ! ВО ВЛАСТИ НАВАЖДЕНИЯ (ПЛАСТ.)         D        0   \n",
       "1  !ABBYY FineReader 12 Professional Edition Full...        1   \n",
       "2      ***В ЛУЧАХ СЛАВЫ   (UNV)                    D        2   \n",
       "\n",
       "   item_category_id  \n",
       "0                40  \n",
       "1                76  \n",
       "2                40  "
      ]
     },
     "execution_count": 14,
     "metadata": {},
     "output_type": "execute_result"
    }
   ],
   "source": [
    "# items.csv to dataframe\n",
    "df_item = pd.read_csv('data/items.csv')\n",
    "print(df_item.shape)\n",
    "df_item.head(3)"
   ]
  },
  {
   "cell_type": "code",
   "execution_count": 15,
   "metadata": {},
   "outputs": [
    {
     "name": "stdout",
     "output_type": "stream",
     "text": [
      "(84, 2)\n"
     ]
    },
    {
     "data": {
      "text/html": [
       "<div>\n",
       "<style scoped>\n",
       "    .dataframe tbody tr th:only-of-type {\n",
       "        vertical-align: middle;\n",
       "    }\n",
       "\n",
       "    .dataframe tbody tr th {\n",
       "        vertical-align: top;\n",
       "    }\n",
       "\n",
       "    .dataframe thead th {\n",
       "        text-align: right;\n",
       "    }\n",
       "</style>\n",
       "<table border=\"1\" class=\"dataframe\">\n",
       "  <thead>\n",
       "    <tr style=\"text-align: right;\">\n",
       "      <th></th>\n",
       "      <th>item_category_name</th>\n",
       "      <th>item_category_id</th>\n",
       "    </tr>\n",
       "  </thead>\n",
       "  <tbody>\n",
       "    <tr>\n",
       "      <th>0</th>\n",
       "      <td>PC - Гарнитуры/Наушники</td>\n",
       "      <td>0</td>\n",
       "    </tr>\n",
       "    <tr>\n",
       "      <th>1</th>\n",
       "      <td>Аксессуары - PS2</td>\n",
       "      <td>1</td>\n",
       "    </tr>\n",
       "    <tr>\n",
       "      <th>2</th>\n",
       "      <td>Аксессуары - PS3</td>\n",
       "      <td>2</td>\n",
       "    </tr>\n",
       "  </tbody>\n",
       "</table>\n",
       "</div>"
      ],
      "text/plain": [
       "        item_category_name  item_category_id\n",
       "0  PC - Гарнитуры/Наушники                 0\n",
       "1         Аксессуары - PS2                 1\n",
       "2         Аксессуары - PS3                 2"
      ]
     },
     "execution_count": 15,
     "metadata": {},
     "output_type": "execute_result"
    }
   ],
   "source": [
    "# item_categories.csv to dataframe\n",
    "df_item_cat = pd.read_csv('data/item_categories.csv')\n",
    "print(df_item_cat.shape)\n",
    "df_item_cat.head(3)"
   ]
  },
  {
   "cell_type": "markdown",
   "metadata": {},
   "source": [
    "# 2. Data exploration\n",
    "This section will first take a look at what we are trying to predict through some hypothesis testing and some analysis of the train data set."
   ]
  },
  {
   "cell_type": "markdown",
   "metadata": {},
   "source": [
    "## 2.1 Data scope\n",
    "_Are the shops and items present in the train set?_\n"
   ]
  },
  {
   "cell_type": "code",
   "execution_count": 16,
   "metadata": {},
   "outputs": [
    {
     "data": {
      "text/html": [
       "<div>\n",
       "<style scoped>\n",
       "    .dataframe tbody tr th:only-of-type {\n",
       "        vertical-align: middle;\n",
       "    }\n",
       "\n",
       "    .dataframe tbody tr th {\n",
       "        vertical-align: top;\n",
       "    }\n",
       "\n",
       "    .dataframe thead th {\n",
       "        text-align: right;\n",
       "    }\n",
       "</style>\n",
       "<table border=\"1\" class=\"dataframe\">\n",
       "  <thead>\n",
       "    <tr style=\"text-align: right;\">\n",
       "      <th></th>\n",
       "      <th>shop_id</th>\n",
       "      <th>item_id</th>\n",
       "    </tr>\n",
       "  </thead>\n",
       "  <tbody>\n",
       "    <tr>\n",
       "      <th>count</th>\n",
       "      <td>214200</td>\n",
       "      <td>214200</td>\n",
       "    </tr>\n",
       "    <tr>\n",
       "      <th>unique</th>\n",
       "      <td>42</td>\n",
       "      <td>5100</td>\n",
       "    </tr>\n",
       "    <tr>\n",
       "      <th>top</th>\n",
       "      <td>59</td>\n",
       "      <td>22167</td>\n",
       "    </tr>\n",
       "    <tr>\n",
       "      <th>freq</th>\n",
       "      <td>5100</td>\n",
       "      <td>42</td>\n",
       "    </tr>\n",
       "  </tbody>\n",
       "</table>\n",
       "</div>"
      ],
      "text/plain": [
       "        shop_id  item_id\n",
       "count    214200   214200\n",
       "unique       42     5100\n",
       "top          59    22167\n",
       "freq       5100       42"
      ]
     },
     "execution_count": 16,
     "metadata": {},
     "output_type": "execute_result"
    }
   ],
   "source": [
    "# statistics\n",
    "df_test[['shop_id', 'item_id']].astype('object').describe()"
   ]
  },
  {
   "cell_type": "code",
   "execution_count": 17,
   "metadata": {},
   "outputs": [
    {
     "data": {
      "text/plain": [
       "2047     42\n",
       "19744    42\n",
       "15406    42\n",
       "13359    42\n",
       "3240     42\n",
       "         ..\n",
       "21086    42\n",
       "21214    42\n",
       "17244    42\n",
       "21342    42\n",
       "2049     42\n",
       "Name: item_id, Length: 5100, dtype: int64"
      ]
     },
     "execution_count": 17,
     "metadata": {},
     "output_type": "execute_result"
    }
   ],
   "source": [
    "df_test.item_id.value_counts()"
   ]
  },
  {
   "cell_type": "markdown",
   "metadata": {},
   "source": [
    "**_The test data contains observations for 42 shops and 5100 items._**\n",
    "\n",
    "**_Each item has an oservation for each shop_.**"
   ]
  },
  {
   "cell_type": "code",
   "execution_count": 18,
   "metadata": {},
   "outputs": [
    {
     "data": {
      "text/html": [
       "<div>\n",
       "<style scoped>\n",
       "    .dataframe tbody tr th:only-of-type {\n",
       "        vertical-align: middle;\n",
       "    }\n",
       "\n",
       "    .dataframe tbody tr th {\n",
       "        vertical-align: top;\n",
       "    }\n",
       "\n",
       "    .dataframe thead th {\n",
       "        text-align: right;\n",
       "    }\n",
       "</style>\n",
       "<table border=\"1\" class=\"dataframe\">\n",
       "  <thead>\n",
       "    <tr style=\"text-align: right;\">\n",
       "      <th></th>\n",
       "      <th>shop_id</th>\n",
       "      <th>item_id</th>\n",
       "    </tr>\n",
       "  </thead>\n",
       "  <tbody>\n",
       "    <tr>\n",
       "      <th>count</th>\n",
       "      <td>2935849</td>\n",
       "      <td>2935849</td>\n",
       "    </tr>\n",
       "    <tr>\n",
       "      <th>unique</th>\n",
       "      <td>60</td>\n",
       "      <td>21807</td>\n",
       "    </tr>\n",
       "    <tr>\n",
       "      <th>top</th>\n",
       "      <td>31</td>\n",
       "      <td>20949</td>\n",
       "    </tr>\n",
       "    <tr>\n",
       "      <th>freq</th>\n",
       "      <td>235636</td>\n",
       "      <td>31340</td>\n",
       "    </tr>\n",
       "  </tbody>\n",
       "</table>\n",
       "</div>"
      ],
      "text/plain": [
       "        shop_id  item_id\n",
       "count   2935849  2935849\n",
       "unique       60    21807\n",
       "top          31    20949\n",
       "freq     235636    31340"
      ]
     },
     "execution_count": 18,
     "metadata": {},
     "output_type": "execute_result"
    }
   ],
   "source": [
    "# statistics\n",
    "df_sales[['shop_id', 'item_id']].astype('object').describe()"
   ]
  },
  {
   "cell_type": "markdown",
   "metadata": {},
   "source": [
    "**_The training data contains more shops than the test data._**\n",
    "\n",
    "**_These shops will be dropped before training the model to reduce noise._**"
   ]
  },
  {
   "cell_type": "markdown",
   "metadata": {},
   "source": [
    "### 2.1.1 Hypothesis 1\n",
    "The test set contains items that have never been purchased before"
   ]
  },
  {
   "cell_type": "code",
   "execution_count": 19,
   "metadata": {},
   "outputs": [],
   "source": [
    "train_shops = df_sales.shop_id.unique()\n",
    "test_shops = df_test.shop_id.unique()\n",
    "\n",
    "train_items = df_sales.item_id.unique()\n",
    "test_items = df_test.item_id.unique()"
   ]
  },
  {
   "cell_type": "code",
   "execution_count": 20,
   "metadata": {},
   "outputs": [
    {
     "name": "stdout",
     "output_type": "stream",
     "text": [
      "363 items in the test data have no purchase history\n"
     ]
    }
   ],
   "source": [
    "# check for missing training observations\n",
    "new_items = sum([1 if i not in train_items else 0 for i in test_items])\n",
    "print(new_items, 'items in the test data have no purchase history')"
   ]
  },
  {
   "cell_type": "markdown",
   "metadata": {},
   "source": [
    "___TRUE: These items could be assumed to be new to market and classified as such___\n",
    "\n",
    "___Or they could contain items that were end of life before 2013.___"
   ]
  },
  {
   "cell_type": "markdown",
   "metadata": {},
   "source": [
    "### 2.1.2 Hypothesis 2\n",
    "Not all shops buy all items"
   ]
  },
  {
   "cell_type": "code",
   "execution_count": 21,
   "metadata": {},
   "outputs": [
    {
     "data": {
      "text/html": [
       "<div>\n",
       "<style scoped>\n",
       "    .dataframe tbody tr th:only-of-type {\n",
       "        vertical-align: middle;\n",
       "    }\n",
       "\n",
       "    .dataframe tbody tr th {\n",
       "        vertical-align: top;\n",
       "    }\n",
       "\n",
       "    .dataframe thead th {\n",
       "        text-align: right;\n",
       "    }\n",
       "</style>\n",
       "<table border=\"1\" class=\"dataframe\">\n",
       "  <thead>\n",
       "    <tr style=\"text-align: right;\">\n",
       "      <th></th>\n",
       "      <th>n_unique_items</th>\n",
       "    </tr>\n",
       "  </thead>\n",
       "  <tbody>\n",
       "    <tr>\n",
       "      <th>count</th>\n",
       "      <td>60.000000</td>\n",
       "    </tr>\n",
       "    <tr>\n",
       "      <th>mean</th>\n",
       "      <td>2236.666667</td>\n",
       "    </tr>\n",
       "    <tr>\n",
       "      <th>std</th>\n",
       "      <td>1028.636611</td>\n",
       "    </tr>\n",
       "    <tr>\n",
       "      <th>min</th>\n",
       "      <td>252.000000</td>\n",
       "    </tr>\n",
       "    <tr>\n",
       "      <th>25%</th>\n",
       "      <td>1864.000000</td>\n",
       "    </tr>\n",
       "    <tr>\n",
       "      <th>50%</th>\n",
       "      <td>2547.500000</td>\n",
       "    </tr>\n",
       "    <tr>\n",
       "      <th>75%</th>\n",
       "      <td>2860.250000</td>\n",
       "    </tr>\n",
       "    <tr>\n",
       "      <th>max</th>\n",
       "      <td>4013.000000</td>\n",
       "    </tr>\n",
       "  </tbody>\n",
       "</table>\n",
       "</div>"
      ],
      "text/plain": [
       "       n_unique_items\n",
       "count       60.000000\n",
       "mean      2236.666667\n",
       "std       1028.636611\n",
       "min        252.000000\n",
       "25%       1864.000000\n",
       "50%       2547.500000\n",
       "75%       2860.250000\n",
       "max       4013.000000"
      ]
     },
     "execution_count": 21,
     "metadata": {},
     "output_type": "execute_result"
    }
   ],
   "source": [
    "(\n",
    "    df_sales\n",
    "    .copy()[df_sales.item_id.isin(test_items)]\n",
    "    .groupby('shop_id')\n",
    "    .agg(n_unique_items = ('item_id', 'nunique'))\n",
    ").describe()\n",
    "    "
   ]
  },
  {
   "cell_type": "markdown",
   "metadata": {},
   "source": [
    "___TRUE: There is much deviation between shops in the variety of items purchased.___\n",
    "\n",
    "___The model could benefit from binary features that indicate if:___\n",
    "* an item has purchase history\n",
    "* an item is new to the assortment"
   ]
  },
  {
   "cell_type": "markdown",
   "metadata": {},
   "source": [
    "### 2.1.3 Hypothesis 3\n",
    "Test items are recent to the assortment\n"
   ]
  },
  {
   "cell_type": "code",
   "execution_count": 22,
   "metadata": {},
   "outputs": [
    {
     "data": {
      "text/html": [
       "<div>\n",
       "<style scoped>\n",
       "    .dataframe tbody tr th:only-of-type {\n",
       "        vertical-align: middle;\n",
       "    }\n",
       "\n",
       "    .dataframe tbody tr th {\n",
       "        vertical-align: top;\n",
       "    }\n",
       "\n",
       "    .dataframe thead th {\n",
       "        text-align: right;\n",
       "    }\n",
       "</style>\n",
       "<table border=\"1\" class=\"dataframe\">\n",
       "  <thead>\n",
       "    <tr style=\"text-align: right;\">\n",
       "      <th></th>\n",
       "      <th>date</th>\n",
       "      <th>date_block_num</th>\n",
       "      <th>shop_id</th>\n",
       "      <th>item_id</th>\n",
       "      <th>item_price</th>\n",
       "      <th>item_cnt_day</th>\n",
       "    </tr>\n",
       "  </thead>\n",
       "  <tbody>\n",
       "    <tr>\n",
       "      <th>0</th>\n",
       "      <td>2013-01-02</td>\n",
       "      <td>0</td>\n",
       "      <td>59</td>\n",
       "      <td>22154</td>\n",
       "      <td>999.00</td>\n",
       "      <td>1.0</td>\n",
       "    </tr>\n",
       "    <tr>\n",
       "      <th>1</th>\n",
       "      <td>2013-01-03</td>\n",
       "      <td>0</td>\n",
       "      <td>25</td>\n",
       "      <td>2552</td>\n",
       "      <td>899.00</td>\n",
       "      <td>1.0</td>\n",
       "    </tr>\n",
       "    <tr>\n",
       "      <th>2</th>\n",
       "      <td>2013-01-05</td>\n",
       "      <td>0</td>\n",
       "      <td>25</td>\n",
       "      <td>2552</td>\n",
       "      <td>899.00</td>\n",
       "      <td>-1.0</td>\n",
       "    </tr>\n",
       "    <tr>\n",
       "      <th>3</th>\n",
       "      <td>2013-01-06</td>\n",
       "      <td>0</td>\n",
       "      <td>25</td>\n",
       "      <td>2554</td>\n",
       "      <td>1709.05</td>\n",
       "      <td>1.0</td>\n",
       "    </tr>\n",
       "    <tr>\n",
       "      <th>4</th>\n",
       "      <td>2013-01-15</td>\n",
       "      <td>0</td>\n",
       "      <td>25</td>\n",
       "      <td>2555</td>\n",
       "      <td>1099.00</td>\n",
       "      <td>1.0</td>\n",
       "    </tr>\n",
       "    <tr>\n",
       "      <th>...</th>\n",
       "      <td>...</td>\n",
       "      <td>...</td>\n",
       "      <td>...</td>\n",
       "      <td>...</td>\n",
       "      <td>...</td>\n",
       "      <td>...</td>\n",
       "    </tr>\n",
       "    <tr>\n",
       "      <th>2935844</th>\n",
       "      <td>2015-10-10</td>\n",
       "      <td>33</td>\n",
       "      <td>25</td>\n",
       "      <td>7409</td>\n",
       "      <td>299.00</td>\n",
       "      <td>1.0</td>\n",
       "    </tr>\n",
       "    <tr>\n",
       "      <th>2935845</th>\n",
       "      <td>2015-10-09</td>\n",
       "      <td>33</td>\n",
       "      <td>25</td>\n",
       "      <td>7460</td>\n",
       "      <td>299.00</td>\n",
       "      <td>1.0</td>\n",
       "    </tr>\n",
       "    <tr>\n",
       "      <th>2935846</th>\n",
       "      <td>2015-10-14</td>\n",
       "      <td>33</td>\n",
       "      <td>25</td>\n",
       "      <td>7459</td>\n",
       "      <td>349.00</td>\n",
       "      <td>1.0</td>\n",
       "    </tr>\n",
       "    <tr>\n",
       "      <th>2935847</th>\n",
       "      <td>2015-10-22</td>\n",
       "      <td>33</td>\n",
       "      <td>25</td>\n",
       "      <td>7440</td>\n",
       "      <td>299.00</td>\n",
       "      <td>1.0</td>\n",
       "    </tr>\n",
       "    <tr>\n",
       "      <th>2935848</th>\n",
       "      <td>2015-10-03</td>\n",
       "      <td>33</td>\n",
       "      <td>25</td>\n",
       "      <td>7460</td>\n",
       "      <td>299.00</td>\n",
       "      <td>1.0</td>\n",
       "    </tr>\n",
       "  </tbody>\n",
       "</table>\n",
       "<p>2935849 rows × 6 columns</p>\n",
       "</div>"
      ],
      "text/plain": [
       "              date  date_block_num  shop_id  item_id  item_price  item_cnt_day\n",
       "0       2013-01-02               0       59    22154      999.00           1.0\n",
       "1       2013-01-03               0       25     2552      899.00           1.0\n",
       "2       2013-01-05               0       25     2552      899.00          -1.0\n",
       "3       2013-01-06               0       25     2554     1709.05           1.0\n",
       "4       2013-01-15               0       25     2555     1099.00           1.0\n",
       "...            ...             ...      ...      ...         ...           ...\n",
       "2935844 2015-10-10              33       25     7409      299.00           1.0\n",
       "2935845 2015-10-09              33       25     7460      299.00           1.0\n",
       "2935846 2015-10-14              33       25     7459      349.00           1.0\n",
       "2935847 2015-10-22              33       25     7440      299.00           1.0\n",
       "2935848 2015-10-03              33       25     7460      299.00           1.0\n",
       "\n",
       "[2935849 rows x 6 columns]"
      ]
     },
     "execution_count": 22,
     "metadata": {},
     "output_type": "execute_result"
    }
   ],
   "source": [
    "df_sales"
   ]
  },
  {
   "cell_type": "code",
   "execution_count": 23,
   "metadata": {},
   "outputs": [
    {
     "data": {
      "text/html": [
       "<div>\n",
       "<style scoped>\n",
       "    .dataframe tbody tr th:only-of-type {\n",
       "        vertical-align: middle;\n",
       "    }\n",
       "\n",
       "    .dataframe tbody tr th {\n",
       "        vertical-align: top;\n",
       "    }\n",
       "\n",
       "    .dataframe thead th {\n",
       "        text-align: right;\n",
       "    }\n",
       "</style>\n",
       "<table border=\"1\" class=\"dataframe\">\n",
       "  <thead>\n",
       "    <tr style=\"text-align: right;\">\n",
       "      <th></th>\n",
       "      <th>ID</th>\n",
       "      <th>shop_id</th>\n",
       "      <th>item_id</th>\n",
       "      <th>min_date</th>\n",
       "      <th>max_date</th>\n",
       "    </tr>\n",
       "  </thead>\n",
       "  <tbody>\n",
       "    <tr>\n",
       "      <th>72915</th>\n",
       "      <td>72915</td>\n",
       "      <td>21</td>\n",
       "      <td>13536</td>\n",
       "      <td>2013-01-23</td>\n",
       "      <td>2013-02-04</td>\n",
       "    </tr>\n",
       "    <tr>\n",
       "      <th>21915</th>\n",
       "      <td>21915</td>\n",
       "      <td>2</td>\n",
       "      <td>13536</td>\n",
       "      <td>2013-01-23</td>\n",
       "      <td>2013-02-04</td>\n",
       "    </tr>\n",
       "    <tr>\n",
       "      <th>164715</th>\n",
       "      <td>164715</td>\n",
       "      <td>36</td>\n",
       "      <td>13536</td>\n",
       "      <td>2013-01-23</td>\n",
       "      <td>2013-02-04</td>\n",
       "    </tr>\n",
       "    <tr>\n",
       "      <th>123915</th>\n",
       "      <td>123915</td>\n",
       "      <td>52</td>\n",
       "      <td>13536</td>\n",
       "      <td>2013-01-23</td>\n",
       "      <td>2013-02-04</td>\n",
       "    </tr>\n",
       "    <tr>\n",
       "      <th>98415</th>\n",
       "      <td>98415</td>\n",
       "      <td>19</td>\n",
       "      <td>13536</td>\n",
       "      <td>2013-01-23</td>\n",
       "      <td>2013-02-04</td>\n",
       "    </tr>\n",
       "    <tr>\n",
       "      <th>...</th>\n",
       "      <td>...</td>\n",
       "      <td>...</td>\n",
       "      <td>...</td>\n",
       "      <td>...</td>\n",
       "      <td>...</td>\n",
       "    </tr>\n",
       "    <tr>\n",
       "      <th>214130</th>\n",
       "      <td>214130</td>\n",
       "      <td>45</td>\n",
       "      <td>15033</td>\n",
       "      <td>NaT</td>\n",
       "      <td>NaT</td>\n",
       "    </tr>\n",
       "    <tr>\n",
       "      <th>214150</th>\n",
       "      <td>214150</td>\n",
       "      <td>45</td>\n",
       "      <td>7572</td>\n",
       "      <td>NaT</td>\n",
       "      <td>NaT</td>\n",
       "    </tr>\n",
       "    <tr>\n",
       "      <th>214154</th>\n",
       "      <td>214154</td>\n",
       "      <td>45</td>\n",
       "      <td>9030</td>\n",
       "      <td>NaT</td>\n",
       "      <td>NaT</td>\n",
       "    </tr>\n",
       "    <tr>\n",
       "      <th>214161</th>\n",
       "      <td>214161</td>\n",
       "      <td>45</td>\n",
       "      <td>1867</td>\n",
       "      <td>NaT</td>\n",
       "      <td>NaT</td>\n",
       "    </tr>\n",
       "    <tr>\n",
       "      <th>214173</th>\n",
       "      <td>214173</td>\n",
       "      <td>45</td>\n",
       "      <td>12470</td>\n",
       "      <td>NaT</td>\n",
       "      <td>NaT</td>\n",
       "    </tr>\n",
       "  </tbody>\n",
       "</table>\n",
       "<p>214200 rows × 5 columns</p>\n",
       "</div>"
      ],
      "text/plain": [
       "            ID  shop_id  item_id   min_date   max_date\n",
       "72915    72915       21    13536 2013-01-23 2013-02-04\n",
       "21915    21915        2    13536 2013-01-23 2013-02-04\n",
       "164715  164715       36    13536 2013-01-23 2013-02-04\n",
       "123915  123915       52    13536 2013-01-23 2013-02-04\n",
       "98415    98415       19    13536 2013-01-23 2013-02-04\n",
       "...        ...      ...      ...        ...        ...\n",
       "214130  214130       45    15033        NaT        NaT\n",
       "214150  214150       45     7572        NaT        NaT\n",
       "214154  214154       45     9030        NaT        NaT\n",
       "214161  214161       45     1867        NaT        NaT\n",
       "214173  214173       45    12470        NaT        NaT\n",
       "\n",
       "[214200 rows x 5 columns]"
      ]
     },
     "execution_count": 23,
     "metadata": {},
     "output_type": "execute_result"
    }
   ],
   "source": [
    "df_item_date = (\n",
    "    df_sales\n",
    "    .copy()\n",
    "    .groupby('item_id')\n",
    "    .agg(min_date = ('date', 'min'), \n",
    "         max_date = ('date', 'max'))\n",
    ")\n",
    "\n",
    "(\n",
    "    df_test\n",
    "    .copy()\n",
    "    .merge(df_item_date, how='left', on='item_id')    \n",
    ").sort_values('max_date')    "
   ]
  },
  {
   "cell_type": "markdown",
   "metadata": {},
   "source": [
    "___FALSE: Some items in the test data have not been purchased by shops for months.___\n",
    "\n",
    "___Such items could be classified as end of life so the prediction will be zero.___"
   ]
  },
  {
   "cell_type": "markdown",
   "metadata": {},
   "source": [
    "### 2.1.4 Check item master data\n",
    "_Do the test items exist in the master data?_"
   ]
  },
  {
   "cell_type": "code",
   "execution_count": 24,
   "metadata": {},
   "outputs": [
    {
     "name": "stdout",
     "output_type": "stream",
     "text": [
      "0 items in the test data have no master data\n"
     ]
    }
   ],
   "source": [
    "item_master = df_item.item_id.unique()\n",
    "\n",
    "new_items = sum([1 if i not in item_master else 0 for i in test_items])\n",
    "print(new_items, 'items in the test data have no master data')"
   ]
  },
  {
   "cell_type": "markdown",
   "metadata": {},
   "source": [
    "## 2.2 Examine sales data\n",
    "- _is there a historical sales trend?_\n",
    "- _is there seasonality in the data?_\n",
    "- _are there data quality issues?_\n",
    "    - missing values\n",
    "    - duplicates\n",
    "- _other considerations_\n",
    "    - are all features relevant?\n",
    "    - any unusual distributions\n",
    "    - does the target need to be engineered?\n",
    "    \n"
   ]
  },
  {
   "cell_type": "code",
   "execution_count": 25,
   "metadata": {},
   "outputs": [
    {
     "data": {
      "text/plain": [
       "date              0\n",
       "date_block_num    0\n",
       "shop_id           0\n",
       "item_id           0\n",
       "item_price        0\n",
       "item_cnt_day      0\n",
       "dtype: int64"
      ]
     },
     "execution_count": 25,
     "metadata": {},
     "output_type": "execute_result"
    }
   ],
   "source": [
    "#check for missing values\n",
    "df_sales.isnull().sum()"
   ]
  },
  {
   "cell_type": "code",
   "execution_count": 26,
   "metadata": {},
   "outputs": [
    {
     "data": {
      "text/html": [
       "<div>\n",
       "<style scoped>\n",
       "    .dataframe tbody tr th:only-of-type {\n",
       "        vertical-align: middle;\n",
       "    }\n",
       "\n",
       "    .dataframe tbody tr th {\n",
       "        vertical-align: top;\n",
       "    }\n",
       "\n",
       "    .dataframe thead th {\n",
       "        text-align: right;\n",
       "    }\n",
       "</style>\n",
       "<table border=\"1\" class=\"dataframe\">\n",
       "  <thead>\n",
       "    <tr style=\"text-align: right;\">\n",
       "      <th></th>\n",
       "      <th>date</th>\n",
       "      <th>date_block_num</th>\n",
       "      <th>shop_id</th>\n",
       "      <th>item_id</th>\n",
       "      <th>item_price</th>\n",
       "      <th>item_cnt_day</th>\n",
       "    </tr>\n",
       "  </thead>\n",
       "  <tbody>\n",
       "    <tr>\n",
       "      <th>76962</th>\n",
       "      <td>2013-01-05</td>\n",
       "      <td>0</td>\n",
       "      <td>54</td>\n",
       "      <td>20130</td>\n",
       "      <td>149.0</td>\n",
       "      <td>1.0</td>\n",
       "    </tr>\n",
       "    <tr>\n",
       "      <th>1435367</th>\n",
       "      <td>2014-02-23</td>\n",
       "      <td>13</td>\n",
       "      <td>50</td>\n",
       "      <td>3423</td>\n",
       "      <td>999.0</td>\n",
       "      <td>1.0</td>\n",
       "    </tr>\n",
       "    <tr>\n",
       "      <th>1496766</th>\n",
       "      <td>2014-03-23</td>\n",
       "      <td>14</td>\n",
       "      <td>21</td>\n",
       "      <td>3423</td>\n",
       "      <td>999.0</td>\n",
       "      <td>1.0</td>\n",
       "    </tr>\n",
       "    <tr>\n",
       "      <th>1671873</th>\n",
       "      <td>2014-05-01</td>\n",
       "      <td>16</td>\n",
       "      <td>50</td>\n",
       "      <td>3423</td>\n",
       "      <td>999.0</td>\n",
       "      <td>1.0</td>\n",
       "    </tr>\n",
       "    <tr>\n",
       "      <th>1866340</th>\n",
       "      <td>2014-07-12</td>\n",
       "      <td>18</td>\n",
       "      <td>25</td>\n",
       "      <td>3423</td>\n",
       "      <td>999.0</td>\n",
       "      <td>1.0</td>\n",
       "    </tr>\n",
       "    <tr>\n",
       "      <th>2198566</th>\n",
       "      <td>2014-12-31</td>\n",
       "      <td>23</td>\n",
       "      <td>42</td>\n",
       "      <td>21619</td>\n",
       "      <td>499.0</td>\n",
       "      <td>1.0</td>\n",
       "    </tr>\n",
       "  </tbody>\n",
       "</table>\n",
       "</div>"
      ],
      "text/plain": [
       "              date  date_block_num  shop_id  item_id  item_price  item_cnt_day\n",
       "76962   2013-01-05               0       54    20130       149.0           1.0\n",
       "1435367 2014-02-23              13       50     3423       999.0           1.0\n",
       "1496766 2014-03-23              14       21     3423       999.0           1.0\n",
       "1671873 2014-05-01              16       50     3423       999.0           1.0\n",
       "1866340 2014-07-12              18       25     3423       999.0           1.0\n",
       "2198566 2014-12-31              23       42    21619       499.0           1.0"
      ]
     },
     "execution_count": 26,
     "metadata": {},
     "output_type": "execute_result"
    }
   ],
   "source": [
    "# check duplicates\n",
    "df_sales[df_sales.duplicated()]"
   ]
  },
  {
   "cell_type": "code",
   "execution_count": 27,
   "metadata": {},
   "outputs": [
    {
     "data": {
      "text/plain": [
       "count                          2935849\n",
       "mean     2014-04-03 05:44:34.971344128\n",
       "min                2013-01-01 00:00:00\n",
       "25%                2013-08-01 00:00:00\n",
       "50%                2014-03-04 00:00:00\n",
       "75%                2014-12-05 00:00:00\n",
       "max                2015-10-31 00:00:00\n",
       "Name: date, dtype: object"
      ]
     },
     "execution_count": 27,
     "metadata": {},
     "output_type": "execute_result"
    }
   ],
   "source": [
    "df_sales['date'].describe(datetime_is_numeric=True)"
   ]
  },
  {
   "cell_type": "markdown",
   "metadata": {},
   "source": [
    "### Distributions continuous features\n",
    "- item_price\n",
    "- item_cnt_day"
   ]
  },
  {
   "cell_type": "code",
   "execution_count": 28,
   "metadata": {
    "scrolled": true
   },
   "outputs": [
    {
     "data": {
      "image/png": "[encoded data removed]",
      "text/plain": [
       "<Figure size 720x216 with 2 Axes>"
      ]
     },
     "metadata": {},
     "output_type": "display_data"
    }
   ],
   "source": [
    "# plot distributions\n",
    "df_sales[['item_price','item_cnt_day']].hist(figsize=(10, 3))\n",
    "plt.show()"
   ]
  },
  {
   "cell_type": "markdown",
   "metadata": {},
   "source": [
    "**_Both features heavily skewed to the right. These could be data collection errors, but further domain knowledge required to determine this._** \n",
    "\n",
    "**_Will treat these as outliers and remove._**"
   ]
  },
  {
   "cell_type": "markdown",
   "metadata": {},
   "source": [
    "### 2.2.2 Seasonality\n",
    "_Is there seasonality that needs to be taken into account when training a model?_"
   ]
  },
  {
   "cell_type": "code",
   "execution_count": 29,
   "metadata": {},
   "outputs": [
    {
     "data": {
      "text/html": [
       "<div>\n",
       "<style scoped>\n",
       "    .dataframe tbody tr th:only-of-type {\n",
       "        vertical-align: middle;\n",
       "    }\n",
       "\n",
       "    .dataframe tbody tr th {\n",
       "        vertical-align: top;\n",
       "    }\n",
       "\n",
       "    .dataframe thead th {\n",
       "        text-align: right;\n",
       "    }\n",
       "</style>\n",
       "<table border=\"1\" class=\"dataframe\">\n",
       "  <thead>\n",
       "    <tr style=\"text-align: right;\">\n",
       "      <th></th>\n",
       "      <th>date_block_num</th>\n",
       "      <th>item_cnt_month</th>\n",
       "    </tr>\n",
       "    <tr>\n",
       "      <th>date</th>\n",
       "      <th></th>\n",
       "      <th></th>\n",
       "    </tr>\n",
       "  </thead>\n",
       "  <tbody>\n",
       "    <tr>\n",
       "      <th>2013-01-31</th>\n",
       "      <td>0</td>\n",
       "      <td>131479.0</td>\n",
       "    </tr>\n",
       "    <tr>\n",
       "      <th>2013-02-28</th>\n",
       "      <td>1</td>\n",
       "      <td>128090.0</td>\n",
       "    </tr>\n",
       "    <tr>\n",
       "      <th>2013-03-31</th>\n",
       "      <td>2</td>\n",
       "      <td>147142.0</td>\n",
       "    </tr>\n",
       "  </tbody>\n",
       "</table>\n",
       "</div>"
      ],
      "text/plain": [
       "            date_block_num  item_cnt_month\n",
       "date                                      \n",
       "2013-01-31               0        131479.0\n",
       "2013-02-28               1        128090.0\n",
       "2013-03-31               2        147142.0"
      ]
     },
     "execution_count": 29,
     "metadata": {},
     "output_type": "execute_result"
    }
   ],
   "source": [
    "# new dataframe\n",
    "df_seasonality = (\n",
    "    df_sales.copy()\n",
    "    .set_index('date')\n",
    "    .groupby([pd.Grouper(freq='M', level='date'), 'date_block_num'])\n",
    "    .agg(item_cnt_month = ('item_cnt_day', 'sum'))\n",
    "    .reset_index()\n",
    "    .set_index('date')\n",
    ")\n",
    "\n",
    "df_seasonality.head(3)"
   ]
  },
  {
   "cell_type": "code",
   "execution_count": 30,
   "metadata": {},
   "outputs": [
    {
     "data": {
      "text/plain": [
       "ElasticNet(random_state=123)"
      ]
     },
     "execution_count": 30,
     "metadata": {},
     "output_type": "execute_result"
    }
   ],
   "source": [
    "# fit linear model\n",
    "X = df_seasonality.drop(['item_cnt_month'], axis=1)\n",
    "y = df_seasonality.item_cnt_month\n",
    "\n",
    "\n",
    "enet = ElasticNet(random_state=123)\n",
    "enet.fit(X, y)"
   ]
  },
  {
   "cell_type": "code",
   "execution_count": 31,
   "metadata": {},
   "outputs": [
    {
     "data": {
      "image/png": "[encoded data removed]",
      "text/plain": [
       "<Figure size 720x432 with 1 Axes>"
      ]
     },
     "metadata": {},
     "output_type": "display_data"
    }
   ],
   "source": [
    "# generate prediction and plot\n",
    "df_seasonality['pred'] = enet.predict(X)\n",
    "df_seasonality[['item_cnt_month', 'pred']].plot(figsize=(10, 6))\n",
    "plt.show()"
   ]
  },
  {
   "cell_type": "markdown",
   "metadata": {},
   "source": [
    "___Overall decline in sales over time.___\n",
    "\n",
    "___Huge spikes in December, likely due to holiday season.___"
   ]
  },
  {
   "cell_type": "code",
   "execution_count": 32,
   "metadata": {},
   "outputs": [
    {
     "data": {
      "text/plain": [
       "ElasticNet(random_state=123)"
      ]
     },
     "execution_count": 32,
     "metadata": {},
     "output_type": "execute_result"
    }
   ],
   "source": [
    "# seasonal features\n",
    "df_seasonality['xmas'] = [1 if x in (11, 23) else 0 for x in df_seasonality.date_block_num]\n",
    "df_seasonality['quarter'] = [q for q in df_seasonality.index.quarter]\n",
    "\n",
    "# X and y variables\n",
    "X_seasonal = pd.get_dummies(df_seasonality\n",
    "                            .drop(['item_cnt_month', 'pred'], axis=1), columns=['quarter'], drop_first=True)\n",
    "y_seasonal = df_seasonality.item_cnt_month\n",
    "\n",
    "# fit model\n",
    "enet = ElasticNet(random_state=123)\n",
    "enet.fit(X_seasonal, y_seasonal)"
   ]
  },
  {
   "cell_type": "code",
   "execution_count": 33,
   "metadata": {},
   "outputs": [
    {
     "data": {
      "image/png": "[encoded data removed]",
      "text/plain": [
       "<Figure size 720x432 with 1 Axes>"
      ]
     },
     "metadata": {},
     "output_type": "display_data"
    }
   ],
   "source": [
    "# prediction\n",
    "df_seasonality['pred'] = enet.predict(X_seasonal)\n",
    "df_seasonality[['item_cnt_month', 'pred']].plot(figsize=(10, 6))\n",
    "plt.show()"
   ]
  },
  {
   "cell_type": "markdown",
   "metadata": {},
   "source": [
    "___Since there is a clear trend over time, the problem could be framed as a time-series problem.___\n",
    "\n",
    "___Seasonal features could help improve predictive accuracy.___"
   ]
  },
  {
   "cell_type": "markdown",
   "metadata": {},
   "source": [
    "### 2.2.3 Item lifecycle\n",
    "- _What is the typical lifecycle of an item?_\n",
    "    - Is there enough monthly sales history to predict counts?\n",
    "- _How often are new items introduced?_\n",
    "- _How do categories develop over time?_"
   ]
  },
  {
   "cell_type": "code",
   "execution_count": 34,
   "metadata": {},
   "outputs": [
    {
     "data": {
      "image/png": "[encoded data removed]",
      "text/plain": [
       "<Figure size 432x288 with 1 Axes>"
      ]
     },
     "metadata": {},
     "output_type": "display_data"
    }
   ],
   "source": [
    "# grouped dataframe\n",
    "df_sales_lc = (\n",
    "    df_sales\n",
    "    .copy()\n",
    "    .groupby(['shop_id', 'item_id'])\n",
    "    .agg(date_min= ('date', 'min'),\n",
    "         date_max= ('date', 'max'),\n",
    "         item_cnt_day= ('item_cnt_day', 'sum'))\n",
    "    .assign(diff = lambda x: x.date_max - x.date_min)\n",
    "    .assign(delta = lambda x: np.round((x.date_max - x.date_min)/np.timedelta64(1, 'M'),0))\n",
    "    .astype({'delta': 'int'})\n",
    "    \n",
    ")\n",
    "\n",
    "# plot distribution\n",
    "df_sales_lc['delta'].hist()\n",
    "\n",
    "plt.title('item lifecycle in months')\n",
    "plt.show()\n",
    "\n"
   ]
  },
  {
   "cell_type": "markdown",
   "metadata": {},
   "source": [
    "___The typical lifecylce of an item is 3 or less months.___\n",
    "\n",
    "___There could be good 'end-of-life' feature to engineer for the model.___"
   ]
  },
  {
   "cell_type": "markdown",
   "metadata": {},
   "source": [
    "_How to sales of new items compare with recurring sales?_"
   ]
  },
  {
   "cell_type": "code",
   "execution_count": 35,
   "metadata": {},
   "outputs": [
    {
     "data": {
      "image/png": "[encoded data removed]",
      "text/plain": [
       "<Figure size 432x288 with 1 Axes>"
      ]
     },
     "metadata": {},
     "output_type": "display_data"
    }
   ],
   "source": [
    "# 1 group sales by month\n",
    "df_sales_month = (\n",
    "    df_sales.copy()\n",
    "    .set_index('date')\n",
    "    .groupby([pd.Grouper(freq='M', level='date'), 'shop_id', 'item_id'])\n",
    "    .agg(item_cnt_month = ('item_cnt_day', 'sum'))\n",
    "    .reset_index()\n",
    ")\n",
    "\n",
    "# 2 get first sale of item by shop\n",
    "df_sales_new_item = (\n",
    "    df_sales_month.copy()    \n",
    "    .groupby(['shop_id', 'item_id'])\n",
    "    .agg(date = ('date', 'min'))\n",
    "    .assign(item_is_new = 1)\n",
    "    .reset_index()\n",
    ")\n",
    "\n",
    "# 3 merge merge and plot\n",
    "(\n",
    "    df_sales_month.copy()\n",
    "    .merge(df_sales_new_item, how='left', on=['date', 'shop_id', 'item_id'])\n",
    "    #.fillna(0)\n",
    "    .assign(new_sales= lambda x: x.item_cnt_month * x.item_is_new,\n",
    "            normal_sales= lambda x: np.where(x.item_is_new != 1, x.item_cnt_month, 0))\n",
    "    .groupby('date')\n",
    "    .agg(new_sales = ('new_sales', 'mean'),\n",
    "         normal_sales = ('normal_sales', 'mean'))\n",
    ").plot()\n",
    "\n",
    "plt.title('average sales recurring vs new items')\n",
    "plt.show()"
   ]
  },
  {
   "cell_type": "markdown",
   "metadata": {},
   "source": [
    "___Different behaviour between old and new items. There are potentially two periods in the year when shops make their initial purchase of an item. November is part of this peak.___ \n",
    "\n",
    "___Time-series may not be a good precictor of new item sales.___"
   ]
  },
  {
   "cell_type": "markdown",
   "metadata": {},
   "source": [
    "# 3. Data cleaning and wrangling\n",
    "\n",
    "1. drop duplicates\n",
    "2. mask test shops and items\n",
    "3. mask outliers\n",
    "4. Summarize to month"
   ]
  },
  {
   "cell_type": "markdown",
   "metadata": {},
   "source": [
    "## 3.1 Reduce data by shop and item"
   ]
  },
  {
   "cell_type": "code",
   "execution_count": 36,
   "metadata": {},
   "outputs": [
    {
     "name": "stdout",
     "output_type": "stream",
     "text": [
      "(1224434, 6)\n"
     ]
    },
    {
     "data": {
      "text/html": [
       "<div>\n",
       "<style scoped>\n",
       "    .dataframe tbody tr th:only-of-type {\n",
       "        vertical-align: middle;\n",
       "    }\n",
       "\n",
       "    .dataframe tbody tr th {\n",
       "        vertical-align: top;\n",
       "    }\n",
       "\n",
       "    .dataframe thead th {\n",
       "        text-align: right;\n",
       "    }\n",
       "</style>\n",
       "<table border=\"1\" class=\"dataframe\">\n",
       "  <thead>\n",
       "    <tr style=\"text-align: right;\">\n",
       "      <th></th>\n",
       "      <th>date</th>\n",
       "      <th>date_block_num</th>\n",
       "      <th>shop_id</th>\n",
       "      <th>item_id</th>\n",
       "      <th>item_price</th>\n",
       "      <th>item_cnt_day</th>\n",
       "    </tr>\n",
       "  </thead>\n",
       "  <tbody>\n",
       "    <tr>\n",
       "      <th>0</th>\n",
       "      <td>2013-01-02</td>\n",
       "      <td>0</td>\n",
       "      <td>59</td>\n",
       "      <td>22154</td>\n",
       "      <td>999.0</td>\n",
       "      <td>1.0</td>\n",
       "    </tr>\n",
       "    <tr>\n",
       "      <th>10</th>\n",
       "      <td>2013-01-03</td>\n",
       "      <td>0</td>\n",
       "      <td>25</td>\n",
       "      <td>2574</td>\n",
       "      <td>399.0</td>\n",
       "      <td>2.0</td>\n",
       "    </tr>\n",
       "    <tr>\n",
       "      <th>11</th>\n",
       "      <td>2013-01-05</td>\n",
       "      <td>0</td>\n",
       "      <td>25</td>\n",
       "      <td>2574</td>\n",
       "      <td>399.0</td>\n",
       "      <td>1.0</td>\n",
       "    </tr>\n",
       "  </tbody>\n",
       "</table>\n",
       "</div>"
      ],
      "text/plain": [
       "         date  date_block_num  shop_id  item_id  item_price  item_cnt_day\n",
       "0  2013-01-02               0       59    22154       999.0           1.0\n",
       "10 2013-01-03               0       25     2574       399.0           2.0\n",
       "11 2013-01-05               0       25     2574       399.0           1.0"
      ]
     },
     "execution_count": 36,
     "metadata": {},
     "output_type": "execute_result"
    }
   ],
   "source": [
    "# mask\n",
    "test_shops = df_test.shop_id.unique()\n",
    "test_items = df_test.item_id.unique()\n",
    "mask_test_shops = df_sales.shop_id.isin(test_shops)\n",
    "mask_test_items = df_sales.item_id.isin(test_items)\n",
    "\n",
    "# new dataframe\n",
    "df_sales_clean = (\n",
    "    df_sales.copy()[mask_test_shops & mask_test_items]\n",
    "    .drop_duplicates()\n",
    ")\n",
    "\n",
    "print(df_sales_clean.shape)\n",
    "df_sales_clean.head(3)"
   ]
  },
  {
   "cell_type": "markdown",
   "metadata": {},
   "source": [
    "## 3.2 Reduce data by removing outliers"
   ]
  },
  {
   "cell_type": "code",
   "execution_count": 37,
   "metadata": {},
   "outputs": [
    {
     "data": {
      "text/plain": [
       "date_block_num      0.0\n",
       "shop_id             2.0\n",
       "item_id           486.0\n",
       "item_price          5.0\n",
       "item_cnt_day        1.0\n",
       "Name: 0.01, dtype: float64"
      ]
     },
     "execution_count": 37,
     "metadata": {},
     "output_type": "execute_result"
    }
   ],
   "source": [
    "# boundaries\n",
    "upper_bound = df_sales_clean.quantile(0.99)\n",
    "lower_bound = df_sales_clean.quantile(0.01)\n",
    "# upper_bound\n",
    "lower_bound"
   ]
  },
  {
   "cell_type": "code",
   "execution_count": 38,
   "metadata": {},
   "outputs": [
    {
     "name": "stdout",
     "output_type": "stream",
     "text": [
      "(1198022, 6)\n"
     ]
    },
    {
     "data": {
      "text/html": [
       "<div>\n",
       "<style scoped>\n",
       "    .dataframe tbody tr th:only-of-type {\n",
       "        vertical-align: middle;\n",
       "    }\n",
       "\n",
       "    .dataframe tbody tr th {\n",
       "        vertical-align: top;\n",
       "    }\n",
       "\n",
       "    .dataframe thead th {\n",
       "        text-align: right;\n",
       "    }\n",
       "</style>\n",
       "<table border=\"1\" class=\"dataframe\">\n",
       "  <thead>\n",
       "    <tr style=\"text-align: right;\">\n",
       "      <th></th>\n",
       "      <th>date</th>\n",
       "      <th>date_block_num</th>\n",
       "      <th>shop_id</th>\n",
       "      <th>item_id</th>\n",
       "      <th>item_price</th>\n",
       "      <th>item_cnt_day</th>\n",
       "    </tr>\n",
       "  </thead>\n",
       "  <tbody>\n",
       "    <tr>\n",
       "      <th>0</th>\n",
       "      <td>2013-01-02</td>\n",
       "      <td>0</td>\n",
       "      <td>59</td>\n",
       "      <td>22154</td>\n",
       "      <td>999.0</td>\n",
       "      <td>1.0</td>\n",
       "    </tr>\n",
       "    <tr>\n",
       "      <th>10</th>\n",
       "      <td>2013-01-03</td>\n",
       "      <td>0</td>\n",
       "      <td>25</td>\n",
       "      <td>2574</td>\n",
       "      <td>399.0</td>\n",
       "      <td>2.0</td>\n",
       "    </tr>\n",
       "    <tr>\n",
       "      <th>11</th>\n",
       "      <td>2013-01-05</td>\n",
       "      <td>0</td>\n",
       "      <td>25</td>\n",
       "      <td>2574</td>\n",
       "      <td>399.0</td>\n",
       "      <td>1.0</td>\n",
       "    </tr>\n",
       "  </tbody>\n",
       "</table>\n",
       "</div>"
      ],
      "text/plain": [
       "         date  date_block_num  shop_id  item_id  item_price  item_cnt_day\n",
       "0  2013-01-02               0       59    22154       999.0           1.0\n",
       "10 2013-01-03               0       25     2574       399.0           2.0\n",
       "11 2013-01-05               0       25     2574       399.0           1.0"
      ]
     },
     "execution_count": 38,
     "metadata": {},
     "output_type": "execute_result"
    }
   ],
   "source": [
    "# boundaries\n",
    "upper_bound = df_sales_clean.quantile(0.99)\n",
    "lower_bound = df_sales_clean.quantile(0.01)\n",
    "\n",
    "# mask\n",
    "mask_upper = (df_sales_clean.item_cnt_day <= upper_bound.item_cnt_day) & (df_sales_clean.item_price <= upper_bound.item_price)\n",
    "mask_lower = (df_sales_clean.item_cnt_day >= lower_bound.item_cnt_day) & (df_sales_clean.item_price >= lower_bound.item_price)\n",
    "\n",
    "# new dataframe\n",
    "df_sales_clean = (\n",
    "    df_sales_clean.copy()[mask_upper & mask_lower]\n",
    ")\n",
    "\n",
    "print(df_sales_clean.shape)\n",
    "df_sales_clean.head(3)                            \n"
   ]
  },
  {
   "cell_type": "code",
   "execution_count": 39,
   "metadata": {
    "scrolled": true
   },
   "outputs": [
    {
     "data": {
      "image/png": "[encoded data removed]",
      "text/plain": [
       "<Figure size 720x288 with 2 Axes>"
      ]
     },
     "metadata": {},
     "output_type": "display_data"
    }
   ],
   "source": [
    "# plot distributions\n",
    "df_sales_clean[['item_price','item_cnt_day']].hist(figsize=(10, 4))\n",
    "plt.show()"
   ]
  },
  {
   "cell_type": "markdown",
   "metadata": {},
   "source": [
    "## 3.3 Group sales by month\n",
    "The target variable is `item_cnt_month` per month, therefore the train data should be summarized from day to month. The grouper function used and date set to month end."
   ]
  },
  {
   "cell_type": "code",
   "execution_count": 40,
   "metadata": {},
   "outputs": [
    {
     "name": "stdout",
     "output_type": "stream",
     "text": [
      "(594482, 1)\n"
     ]
    },
    {
     "data": {
      "text/html": [
       "<div>\n",
       "<style scoped>\n",
       "    .dataframe tbody tr th:only-of-type {\n",
       "        vertical-align: middle;\n",
       "    }\n",
       "\n",
       "    .dataframe tbody tr th {\n",
       "        vertical-align: top;\n",
       "    }\n",
       "\n",
       "    .dataframe thead th {\n",
       "        text-align: right;\n",
       "    }\n",
       "</style>\n",
       "<table border=\"1\" class=\"dataframe\">\n",
       "  <thead>\n",
       "    <tr style=\"text-align: right;\">\n",
       "      <th></th>\n",
       "      <th></th>\n",
       "      <th></th>\n",
       "      <th>item_cnt_month</th>\n",
       "    </tr>\n",
       "    <tr>\n",
       "      <th>date</th>\n",
       "      <th>shop_id</th>\n",
       "      <th>item_id</th>\n",
       "      <th></th>\n",
       "    </tr>\n",
       "  </thead>\n",
       "  <tbody>\n",
       "    <tr>\n",
       "      <th rowspan=\"3\" valign=\"top\">2013-01-31</th>\n",
       "      <th rowspan=\"3\" valign=\"top\">2</th>\n",
       "      <th>33</th>\n",
       "      <td>1.0</td>\n",
       "    </tr>\n",
       "    <tr>\n",
       "      <th>482</th>\n",
       "      <td>1.0</td>\n",
       "    </tr>\n",
       "    <tr>\n",
       "      <th>491</th>\n",
       "      <td>1.0</td>\n",
       "    </tr>\n",
       "  </tbody>\n",
       "</table>\n",
       "</div>"
      ],
      "text/plain": [
       "                            item_cnt_month\n",
       "date       shop_id item_id                \n",
       "2013-01-31 2       33                  1.0\n",
       "                   482                 1.0\n",
       "                   491                 1.0"
      ]
     },
     "execution_count": 40,
     "metadata": {},
     "output_type": "execute_result"
    }
   ],
   "source": [
    "# new dataframe\n",
    "df_sales_month = (\n",
    "    df_sales_clean\n",
    "    .copy()\n",
    "    .set_index(['date', 'shop_id', 'item_id'])\n",
    "    .groupby([pd.Grouper(freq='M', level='date'), 'shop_id', 'item_id'])\n",
    "    .agg(item_cnt_month = ('item_cnt_day', 'sum'))    \n",
    "    )\n",
    "\n",
    "\n",
    "print(df_sales_month.shape)\n",
    "df_sales_month.head(3)"
   ]
  },
  {
   "cell_type": "markdown",
   "metadata": {},
   "source": [
    "## 3.4 Create matrix\n",
    "\n",
    "\n",
    "The observations should consist of every possible month, shop, item.\n",
    "- This is because there is no way to know which test data observations are actual sales of items in Nov 2015.\n",
    "- The model must therefore be trained to predict\n",
    "    - Recurring sales\n",
    "    - Sales of new items\n",
    "    - No sales\n"
   ]
  },
  {
   "cell_type": "code",
   "execution_count": 41,
   "metadata": {},
   "outputs": [
    {
     "name": "stdout",
     "output_type": "stream",
     "text": [
      "(6182493, 4)\n"
     ]
    },
    {
     "data": {
      "text/html": [
       "<div>\n",
       "<style scoped>\n",
       "    .dataframe tbody tr th:only-of-type {\n",
       "        vertical-align: middle;\n",
       "    }\n",
       "\n",
       "    .dataframe tbody tr th {\n",
       "        vertical-align: top;\n",
       "    }\n",
       "\n",
       "    .dataframe thead th {\n",
       "        text-align: right;\n",
       "    }\n",
       "</style>\n",
       "<table border=\"1\" class=\"dataframe\">\n",
       "  <thead>\n",
       "    <tr style=\"text-align: right;\">\n",
       "      <th></th>\n",
       "      <th>item_id</th>\n",
       "      <th>shop_id</th>\n",
       "      <th>date</th>\n",
       "      <th>item_cnt_month</th>\n",
       "    </tr>\n",
       "  </thead>\n",
       "  <tbody>\n",
       "    <tr>\n",
       "      <th>6182490</th>\n",
       "      <td>22167</td>\n",
       "      <td>59</td>\n",
       "      <td>2015-08-31</td>\n",
       "      <td>0.0</td>\n",
       "    </tr>\n",
       "    <tr>\n",
       "      <th>6182491</th>\n",
       "      <td>22167</td>\n",
       "      <td>59</td>\n",
       "      <td>2015-09-30</td>\n",
       "      <td>0.0</td>\n",
       "    </tr>\n",
       "    <tr>\n",
       "      <th>6182492</th>\n",
       "      <td>22167</td>\n",
       "      <td>59</td>\n",
       "      <td>2015-10-31</td>\n",
       "      <td>0.0</td>\n",
       "    </tr>\n",
       "  </tbody>\n",
       "</table>\n",
       "</div>"
      ],
      "text/plain": [
       "         item_id  shop_id       date  item_cnt_month\n",
       "6182490    22167       59 2015-08-31             0.0\n",
       "6182491    22167       59 2015-09-30             0.0\n",
       "6182492    22167       59 2015-10-31             0.0"
      ]
     },
     "execution_count": 41,
     "metadata": {},
     "output_type": "execute_result"
    }
   ],
   "source": [
    "# get combinations of dates, shops, items\n",
    "df_sales_matrix = (\n",
    "    df_sales_month\n",
    "    .copy()\n",
    "    .unstack(level=[0,1])\n",
    "    .fillna(0)\n",
    "    .stack(['shop_id', 'date'])\n",
    "    .reset_index()\n",
    ")\n",
    "\n",
    "print(df_sales_matrix.shape)\n",
    "df_sales_matrix.tail(3)"
   ]
  },
  {
   "cell_type": "markdown",
   "metadata": {},
   "source": [
    "___`df_sales_matrix` is created. Now on to feature engineering.___"
   ]
  },
  {
   "cell_type": "markdown",
   "metadata": {},
   "source": [
    "# 4. Feature engineering\n",
    "\n",
    "This section will generate an analytical base table (ABT). This will consist of the following feature columns:\n",
    "\n",
    "- Time-series \n",
    "The goal here is to prepare a table of time series features. Since these features are based on lags, the table must be indexed by date only. The values can be shifted across the date index once the dataframe has been reshaped by pivoting. Multiple dateframes containing various lag features will be concatenated together then rehshaped back top the original, flat structure. \n",
    "\n",
    "\n",
    "- Binary lifecycle\n",
    "Binary features will be applied to the dataframe which indicate if an item is start or end of life.\n",
    "\n",
    "\n",
    "- Seasonal features\n",
    "Seasonal features will be omitted from this version and revisited at a later stage (see 'next steps')\n",
    "\n",
    "\n",
    "\n",
    "A pandas pipeline will prepare the ABT as follows:\n",
    "1. reshape\n",
    "2. generate lags\n",
    "3. reshape\n",
    "4. lifecyle\n",
    "5. item category mean\n",
    "6. clean up"
   ]
  },
  {
   "cell_type": "markdown",
   "metadata": {},
   "source": [
    "## 4.1 Reshape"
   ]
  },
  {
   "cell_type": "code",
   "execution_count": 45,
   "metadata": {},
   "outputs": [],
   "source": [
    "def reshape_by_pivot(df):\n",
    "    \"\"\"\n",
    "    creates the base dataframe from which to copy and shift values for lags\n",
    "    \"\"\"\n",
    "    return (\n",
    "    df\n",
    "    .assign(target=lambda x: x.item_cnt_month)\n",
    "    .pivot_table(index=['shop_id', 'item_id'], columns='date', values=['item_cnt_month', 'target'])\n",
    "    .fillna(0)\n",
    "    )"
   ]
  },
  {
   "cell_type": "markdown",
   "metadata": {},
   "source": [
    "## 4.2 Add lag features"
   ]
  },
  {
   "cell_type": "code",
   "execution_count": 48,
   "metadata": {},
   "outputs": [],
   "source": [
    "def add_lag_features(df):\n",
    "    \"\"\"\n",
    "    creates new dataframes with lags then concatenates them together\n",
    "    \"\"\"\n",
    "    df_shift1 = df[['item_cnt_month']].rename({'item_cnt_month': 'shift1'}, axis=1).shift(1, axis=1, fill_value=0)\n",
    "    df_shift2 = df[['item_cnt_month']].rename({'item_cnt_month': 'shift2'}, axis=1).shift(2, axis=1, fill_value=0)\n",
    "    df_shift3 = df[['item_cnt_month']].rename({'item_cnt_month': 'shift3'}, axis=1).shift(3, axis=1, fill_value=0)\n",
    "\n",
    "    df_rolling2 = df_shift1.rename({'shift1': 'rolling2'}, axis=1).rolling(window=2, axis=1).mean()\n",
    "    df_rolling3 = df_shift1.rename({'shift1': 'rolling3'}, axis=1).rolling(window=3, axis=1).mean()\n",
    "\n",
    "    # not used for training\n",
    "    df_rolling2_new = df[['item_cnt_month']].rename({'item_cnt_month': 'rolling2_new'}, axis=1).rolling(window=2, axis=1).mean()\n",
    "    df_rolling3_new = df[['item_cnt_month']].rename({'item_cnt_month': 'rolling3_new'}, axis=1).rolling(window=3, axis=1).mean() \n",
    "    \n",
    "    return (\n",
    "            pd.concat([df, df_shift1, df_shift2, df_shift3,\n",
    "               df_rolling2, df_rolling3, \n",
    "               df_rolling2_new, df_rolling3_new                \n",
    "              ], axis=1)\n",
    "            )\n"
   ]
  },
  {
   "cell_type": "markdown",
   "metadata": {},
   "source": [
    "## 4.3 Reshape by stacking"
   ]
  },
  {
   "cell_type": "code",
   "execution_count": 50,
   "metadata": {},
   "outputs": [],
   "source": [
    "def reshape_by_stack(df):\n",
    "    \"\"\"\n",
    "    reshapes the data back to it's original structure then indexes by date\n",
    "    \"\"\"\n",
    "    return (\n",
    "        df\n",
    "        .stack(level=[1])\n",
    "        .fillna(0)\n",
    "        .reset_index()\n",
    "        .sort_values(['date', 'shop_id', 'item_id'])\n",
    "        .set_index('date')    \n",
    "    )\n",
    "    "
   ]
  },
  {
   "cell_type": "markdown",
   "metadata": {},
   "source": [
    "## 4.4 Add lifecycle features"
   ]
  },
  {
   "cell_type": "code",
   "execution_count": 130,
   "metadata": {},
   "outputs": [],
   "source": [
    "def add_lifecycle_features(df):\n",
    "    \"\"\"\n",
    "    1. store min/max dates per item to dictionary\n",
    "    2. map min/max dates to dataframe\n",
    "    3. add binary lifecycle features\n",
    "    \"\"\"\n",
    "    \n",
    "    # empty dicts\n",
    "    dict_item_start = {}\n",
    "    dict_item_end = {}\n",
    "\n",
    "    # temp dataframe containing only item_id and date\n",
    "    temp_df_sales_month = (\n",
    "        df\n",
    "        .reset_index()[['date', 'item_id']]\n",
    "    )\n",
    "\n",
    "    # loop over dataframe to populate dicts\n",
    "    for i in temp_df_sales_month.item_id.sort_values().unique():\n",
    "        mask = temp_df_sales_month.item_id == i\n",
    "        dict_item_start[i] = min(temp_df_sales_month[mask].date) + pd.tseries.offsets.MonthEnd(0)\n",
    "        dict_item_end[i] = max(temp_df_sales_month[mask].date) + pd.tseries.offsets.MonthEnd(0)\n",
    "        \n",
    "    return (\n",
    "        df\n",
    "        .reset_index()\n",
    "        .assign(item_start = lambda x: x.item_id.map(dict_item_start))\n",
    "        .assign(item_end = lambda x: x.item_id.map(dict_item_end))    \n",
    "        .assign(startoflife = lambda x: np.where(x.date == x.item_start, 1, 0))\n",
    "        .assign(endoflife = lambda x: np.where(x.date >= x.item_end + pd.tseries.offsets.MonthEnd(3), 1, 0))\n",
    "        .set_index('date')\n",
    "           )"
   ]
  },
  {
   "cell_type": "markdown",
   "metadata": {},
   "source": [
    "## 4.5 Add item category mean features"
   ]
  },
  {
   "cell_type": "code",
   "execution_count": 62,
   "metadata": {},
   "outputs": [],
   "source": [
    "def add_item_category_mean_features(df):\n",
    "    \"\"\"\n",
    "    1. map item category ids to items\n",
    "    2. assign mean features based on category group\n",
    "    3. weight the results by shop sales of previous month\n",
    "    \"\"\"\n",
    "    \n",
    "    # item_id, item_category_id to dict\n",
    "    dict_item_category = df_item[['item_id', 'item_category_id']].set_index('item_id').to_dict()['item_category_id']\n",
    "\n",
    "    # map item_category to abt_base\n",
    "    df['item_category_id'] = df.item_id.map(dict_item_category)\n",
    "    \n",
    "    return (\n",
    "        df\n",
    "        .reset_index()\n",
    "        # mean calculations\n",
    "        .assign(shift1_cat_mean = lambda x: x.groupby(['date', 'shop_id', 'item_category_id'])['shift1'].transform('mean'))\n",
    "        .assign(rolling3_cat_mean = lambda x: x.groupby(['date', 'shop_id', 'item_category_id'])['rolling3'].transform('mean'))\n",
    "        # shop weight calculation\n",
    "        .assign(shift1_shop_total = lambda x: x.groupby(['date', 'shop_id'])['shift1'].transform('sum'))\n",
    "        .assign(shift1_month_total = lambda x: x.groupby(['date'])['shift1'].transform('sum'))\n",
    "        .assign(shop_weight = lambda x: x.shift1_shop_total / x.shift1_month_total)\n",
    "        # weighted means\n",
    "        .assign(item_cat_mean_shift1_weighted = lambda x: x.shift1_cat_mean * x.shop_weight)\n",
    "        .assign(item_cat_mean_rolling3_weighted = lambda x: x.rolling3_cat_mean * x.shop_weight)        \n",
    "        .set_index('date')\n",
    "    )\n",
    "    \n",
    "    "
   ]
  },
  {
   "cell_type": "markdown",
   "metadata": {},
   "source": [
    "## 4.6 ABT clean up"
   ]
  },
  {
   "cell_type": "code",
   "execution_count": 80,
   "metadata": {},
   "outputs": [],
   "source": [
    "def abt_cleanup(df):\n",
    "    \"\"\"\n",
    "    1. drop unwanted feature columns\n",
    "    2. fill nulls\n",
    "    3. sort columns axis\n",
    "    \"\"\"\n",
    "    column_list = ['item_category_id', 'item_cnt_month', 'item_start', 'item_end',\n",
    "                   'shift1_cat_mean', 'rolling3_cat_mean', 'shift1_shop_total', 'shift1_month_total', 'shop_weight']\n",
    "    \n",
    "    return (\n",
    "        df\n",
    "        .drop(column_list, axis=1)\n",
    "        .fillna(0)\n",
    "        .sort_index(axis=1)\n",
    "    )"
   ]
  },
  {
   "cell_type": "markdown",
   "metadata": {},
   "source": [
    "## 4.7 ABT pipeline"
   ]
  },
  {
   "cell_type": "code",
   "execution_count": 81,
   "metadata": {},
   "outputs": [
    {
     "name": "stdout",
     "output_type": "stream",
     "text": [
      "(6653052, 14)\n"
     ]
    },
    {
     "data": {
      "text/html": [
       "<div>\n",
       "<style scoped>\n",
       "    .dataframe tbody tr th:only-of-type {\n",
       "        vertical-align: middle;\n",
       "    }\n",
       "\n",
       "    .dataframe tbody tr th {\n",
       "        vertical-align: top;\n",
       "    }\n",
       "\n",
       "    .dataframe thead th {\n",
       "        text-align: right;\n",
       "    }\n",
       "</style>\n",
       "<table border=\"1\" class=\"dataframe\">\n",
       "  <thead>\n",
       "    <tr style=\"text-align: right;\">\n",
       "      <th></th>\n",
       "      <th>endoflife</th>\n",
       "      <th>item_cat_mean_rolling3_weighted</th>\n",
       "      <th>item_cat_mean_shift1_weighted</th>\n",
       "      <th>item_id</th>\n",
       "      <th>rolling2</th>\n",
       "      <th>rolling2_new</th>\n",
       "      <th>rolling3</th>\n",
       "      <th>rolling3_new</th>\n",
       "      <th>shift1</th>\n",
       "      <th>shift2</th>\n",
       "      <th>shift3</th>\n",
       "      <th>shop_id</th>\n",
       "      <th>startoflife</th>\n",
       "      <th>target</th>\n",
       "    </tr>\n",
       "    <tr>\n",
       "      <th>date</th>\n",
       "      <th></th>\n",
       "      <th></th>\n",
       "      <th></th>\n",
       "      <th></th>\n",
       "      <th></th>\n",
       "      <th></th>\n",
       "      <th></th>\n",
       "      <th></th>\n",
       "      <th></th>\n",
       "      <th></th>\n",
       "      <th></th>\n",
       "      <th></th>\n",
       "      <th></th>\n",
       "      <th></th>\n",
       "    </tr>\n",
       "  </thead>\n",
       "  <tbody>\n",
       "    <tr>\n",
       "      <th>2015-10-31</th>\n",
       "      <td>0</td>\n",
       "      <td>0.002002</td>\n",
       "      <td>0.001826</td>\n",
       "      <td>22164</td>\n",
       "      <td>0.0</td>\n",
       "      <td>0.0</td>\n",
       "      <td>0.333333</td>\n",
       "      <td>0.0</td>\n",
       "      <td>0.0</td>\n",
       "      <td>0.0</td>\n",
       "      <td>1.0</td>\n",
       "      <td>59</td>\n",
       "      <td>0</td>\n",
       "      <td>0.0</td>\n",
       "    </tr>\n",
       "    <tr>\n",
       "      <th>2015-10-31</th>\n",
       "      <td>0</td>\n",
       "      <td>0.000000</td>\n",
       "      <td>0.000000</td>\n",
       "      <td>22166</td>\n",
       "      <td>0.0</td>\n",
       "      <td>0.0</td>\n",
       "      <td>0.000000</td>\n",
       "      <td>0.0</td>\n",
       "      <td>0.0</td>\n",
       "      <td>0.0</td>\n",
       "      <td>0.0</td>\n",
       "      <td>59</td>\n",
       "      <td>0</td>\n",
       "      <td>0.0</td>\n",
       "    </tr>\n",
       "    <tr>\n",
       "      <th>2015-10-31</th>\n",
       "      <td>0</td>\n",
       "      <td>0.000532</td>\n",
       "      <td>0.000399</td>\n",
       "      <td>22167</td>\n",
       "      <td>0.0</td>\n",
       "      <td>0.0</td>\n",
       "      <td>0.000000</td>\n",
       "      <td>0.0</td>\n",
       "      <td>0.0</td>\n",
       "      <td>0.0</td>\n",
       "      <td>0.0</td>\n",
       "      <td>59</td>\n",
       "      <td>0</td>\n",
       "      <td>0.0</td>\n",
       "    </tr>\n",
       "  </tbody>\n",
       "</table>\n",
       "</div>"
      ],
      "text/plain": [
       "            endoflife  item_cat_mean_rolling3_weighted  \\\n",
       "date                                                     \n",
       "2015-10-31          0                         0.002002   \n",
       "2015-10-31          0                         0.000000   \n",
       "2015-10-31          0                         0.000532   \n",
       "\n",
       "            item_cat_mean_shift1_weighted  item_id  rolling2  rolling2_new  \\\n",
       "date                                                                         \n",
       "2015-10-31                       0.001826    22164       0.0           0.0   \n",
       "2015-10-31                       0.000000    22166       0.0           0.0   \n",
       "2015-10-31                       0.000399    22167       0.0           0.0   \n",
       "\n",
       "            rolling3  rolling3_new  shift1  shift2  shift3  shop_id  \\\n",
       "date                                                                  \n",
       "2015-10-31  0.333333           0.0     0.0     0.0     1.0       59   \n",
       "2015-10-31  0.000000           0.0     0.0     0.0     0.0       59   \n",
       "2015-10-31  0.000000           0.0     0.0     0.0     0.0       59   \n",
       "\n",
       "            startoflife  target  \n",
       "date                             \n",
       "2015-10-31            0     0.0  \n",
       "2015-10-31            0     0.0  \n",
       "2015-10-31            0     0.0  "
      ]
     },
     "execution_count": 81,
     "metadata": {},
     "output_type": "execute_result"
    }
   ],
   "source": [
    "# pandas pipeline to build analytical base table (ABT)\n",
    "abt = (\n",
    "    df_sales_matrix\n",
    "    .copy()\n",
    "    .pipe(reshape_by_pivot)\n",
    "    .pipe(add_lag_features)\n",
    "    .pipe(reshape_by_stack)\n",
    "    .pipe(add_lifecycle_features)\n",
    "    .pipe(add_item_category_mean_features)\n",
    "    .pipe(abt_cleanup)\n",
    ")\n",
    "\n",
    "print(abt.shape)\n",
    "abt.tail(3)\n"
   ]
  },
  {
   "cell_type": "markdown",
   "metadata": {},
   "source": [
    "# 5. Machine Learning\n",
    "This time series problem will be framed in a way that train-test sets are split over consecutive periods. \n",
    "\n",
    "This training a model on all periods is resource intensive, therefore, for this iteration, the training period will be reduced. Reducing the training period in this way will also eliminate the seasonality element (holiday season) which would overcomplicate the model for the Nov 2015 prediction.\n",
    "\n",
    "A custom cross-validation method is required to fold the train set on specific months. \n",
    "\n",
    "The steps are as follows:\n",
    "\n",
    "1. set scope\n",
    "    - test period is latest month (Oct 2015)\n",
    "    - train period limited to 5 months prior\n",
    "2. X, y variables\n",
    "    - `X = abt.drop(['shop_id', 'item_id', 'target'], axis=1)`\n",
    "    - `y = abt_ts.target`\n",
    "3. cross-validation prep\n",
    "    - 4 folds on the 5 month train set\n",
    "4. model pipelines\n",
    "    - StandardScaler\n",
    "    - ElasticNet, RandomForest, GradientBooster\n",
    "5. metrics\n",
    "    - Root mean squared error (RMSE)"
   ]
  },
  {
   "cell_type": "markdown",
   "metadata": {},
   "source": [
    "## 5.1 Train and test splits\n",
    "Define the train and test date ranges.\n"
   ]
  },
  {
   "cell_type": "code",
   "execution_count": 82,
   "metadata": {},
   "outputs": [
    {
     "name": "stdout",
     "output_type": "stream",
     "text": [
      "train: DatetimeIndex(['2015-05-31', '2015-06-30', '2015-07-31', '2015-08-31',\n",
      "               '2015-09-30'],\n",
      "              dtype='datetime64[ns]', freq='M')\n",
      "test: 2015-10-31 00:00:00\n"
     ]
    }
   ],
   "source": [
    "test_period = abt.index[-1]\n",
    "train_start = abt.index[-1] + pd.tseries.offsets.MonthEnd(-5)\n",
    "train_end = test_period + pd.tseries.offsets.MonthEnd(-1)\n",
    "train_period = pd.date_range(start=train_start, \n",
    "                                end=train_end\n",
    "                                 , freq='M')\n",
    "\n",
    "print('train:', train_period)\n",
    "print('test:', test_period)"
   ]
  },
  {
   "cell_type": "markdown",
   "metadata": {},
   "source": [
    "Define X and y variables and split into train and test"
   ]
  },
  {
   "cell_type": "code",
   "execution_count": 83,
   "metadata": {},
   "outputs": [
    {
     "name": "stdout",
     "output_type": "stream",
     "text": [
      "X_train (978390, 9)\n",
      "y_train (978390,)\n",
      "X_test (195678, 9)\n",
      "y_test (195678,)\n"
     ]
    },
    {
     "data": {
      "text/html": [
       "<div>\n",
       "<style scoped>\n",
       "    .dataframe tbody tr th:only-of-type {\n",
       "        vertical-align: middle;\n",
       "    }\n",
       "\n",
       "    .dataframe tbody tr th {\n",
       "        vertical-align: top;\n",
       "    }\n",
       "\n",
       "    .dataframe thead th {\n",
       "        text-align: right;\n",
       "    }\n",
       "</style>\n",
       "<table border=\"1\" class=\"dataframe\">\n",
       "  <thead>\n",
       "    <tr style=\"text-align: right;\">\n",
       "      <th></th>\n",
       "      <th>endoflife</th>\n",
       "      <th>item_cat_mean_rolling3_weighted</th>\n",
       "      <th>item_cat_mean_shift1_weighted</th>\n",
       "      <th>rolling2</th>\n",
       "      <th>rolling3</th>\n",
       "      <th>shift1</th>\n",
       "      <th>shift2</th>\n",
       "      <th>shift3</th>\n",
       "      <th>startoflife</th>\n",
       "    </tr>\n",
       "    <tr>\n",
       "      <th>date</th>\n",
       "      <th></th>\n",
       "      <th></th>\n",
       "      <th></th>\n",
       "      <th></th>\n",
       "      <th></th>\n",
       "      <th></th>\n",
       "      <th></th>\n",
       "      <th></th>\n",
       "      <th></th>\n",
       "    </tr>\n",
       "  </thead>\n",
       "  <tbody>\n",
       "    <tr>\n",
       "      <th>2015-05-31</th>\n",
       "      <td>0</td>\n",
       "      <td>0.000725</td>\n",
       "      <td>0.000877</td>\n",
       "      <td>0.0</td>\n",
       "      <td>0.000000</td>\n",
       "      <td>0.0</td>\n",
       "      <td>0.0</td>\n",
       "      <td>0.0</td>\n",
       "      <td>0</td>\n",
       "    </tr>\n",
       "    <tr>\n",
       "      <th>2015-05-31</th>\n",
       "      <td>0</td>\n",
       "      <td>0.000698</td>\n",
       "      <td>0.000860</td>\n",
       "      <td>0.0</td>\n",
       "      <td>0.000000</td>\n",
       "      <td>0.0</td>\n",
       "      <td>0.0</td>\n",
       "      <td>0.0</td>\n",
       "      <td>0</td>\n",
       "    </tr>\n",
       "    <tr>\n",
       "      <th>2015-05-31</th>\n",
       "      <td>0</td>\n",
       "      <td>0.000725</td>\n",
       "      <td>0.000877</td>\n",
       "      <td>0.5</td>\n",
       "      <td>0.333333</td>\n",
       "      <td>0.0</td>\n",
       "      <td>1.0</td>\n",
       "      <td>0.0</td>\n",
       "      <td>0</td>\n",
       "    </tr>\n",
       "  </tbody>\n",
       "</table>\n",
       "</div>"
      ],
      "text/plain": [
       "            endoflife  item_cat_mean_rolling3_weighted  \\\n",
       "date                                                     \n",
       "2015-05-31          0                         0.000725   \n",
       "2015-05-31          0                         0.000698   \n",
       "2015-05-31          0                         0.000725   \n",
       "\n",
       "            item_cat_mean_shift1_weighted  rolling2  rolling3  shift1  shift2  \\\n",
       "date                                                                            \n",
       "2015-05-31                       0.000877       0.0  0.000000     0.0     0.0   \n",
       "2015-05-31                       0.000860       0.0  0.000000     0.0     0.0   \n",
       "2015-05-31                       0.000877       0.5  0.333333     0.0     1.0   \n",
       "\n",
       "            shift3  startoflife  \n",
       "date                             \n",
       "2015-05-31     0.0            0  \n",
       "2015-05-31     0.0            0  \n",
       "2015-05-31     0.0            0  "
      ]
     },
     "execution_count": 83,
     "metadata": {},
     "output_type": "execute_result"
    }
   ],
   "source": [
    "X = abt.drop(['shop_id', 'item_id', 'target', 'rolling2_new','rolling3_new'], axis=1)\n",
    "y = abt.target\n",
    "\n",
    "X_train = X.loc[(train_period)]\n",
    "y_train = y.loc[(train_period)]\n",
    "\n",
    "# X_test, y_test for scoring metrics\n",
    "X_test = X.loc[(test_period)]\n",
    "y_test = y.loc[(test_period)]\n",
    "\n",
    "print('X_train', X_train.shape)\n",
    "print('y_train', y_train.shape)\n",
    "print('X_test', X_test.shape)\n",
    "print('y_test', y_test.shape)\n",
    "\n",
    "X_train.head(3)"
   ]
  },
  {
   "cell_type": "markdown",
   "metadata": {},
   "source": [
    "## 5.2 Define custom cross validation folds for time-series (tscv)\n",
    "\n",
    "The objective is to create a list of index ranges that can be input to the GridSearch parameters.\n",
    "\n",
    "For traditional machine learning problems, we randomly select subsets of data for the validation and test sets. But in this time-sensitive case, each data point is dependent on its past values. If we randomly shuffle the data, we might be training on future data and predicting the past values. It is therefore important that we carefully build a validation set when working on a time series problem, without destroying the sequential order within the data."
   ]
  },
  {
   "cell_type": "markdown",
   "metadata": {},
   "source": [
    "### 5.2.1 store test indexes"
   ]
  },
  {
   "cell_type": "code",
   "execution_count": 84,
   "metadata": {},
   "outputs": [
    {
     "name": "stdout",
     "output_type": "stream",
     "text": [
      "2015-09-30 00:00:00\n",
      "2015-08-31 00:00:00\n",
      "2015-07-31 00:00:00\n",
      "2015-06-30 00:00:00\n"
     ]
    }
   ],
   "source": [
    "test_idxs = {}\n",
    "cv_test_period = train_end\n",
    "\n",
    "for i in range(1, 5):\n",
    "    test_idxs[i] = list(range(y_train.index.get_loc(cv_test_period).start, \n",
    "                                   y_train.index.get_loc(cv_test_period).stop))\n",
    "    print(cv_test_period)\n",
    "    cv_test_period += pd.tseries.offsets.MonthEnd(-1)   "
   ]
  },
  {
   "cell_type": "markdown",
   "metadata": {},
   "source": [
    "### 5.2.2 store train indexes"
   ]
  },
  {
   "cell_type": "code",
   "execution_count": 85,
   "metadata": {},
   "outputs": [
    {
     "name": "stdout",
     "output_type": "stream",
     "text": [
      "split1: DatetimeIndex(['2015-05-31', '2015-06-30', '2015-07-31', '2015-08-31'], dtype='datetime64[ns]', freq='M')\n",
      "split2: DatetimeIndex(['2015-05-31', '2015-06-30', '2015-07-31'], dtype='datetime64[ns]', freq='M')\n",
      "split3: DatetimeIndex(['2015-05-31', '2015-06-30'], dtype='datetime64[ns]', freq='M')\n",
      "split4: DatetimeIndex(['2015-05-31'], dtype='datetime64[ns]', freq='M')\n"
     ]
    }
   ],
   "source": [
    "train_idxs = {}\n",
    "cv_train_start = X_train.index[0]\n",
    "cv_train_end = train_end + pd.tseries.offsets.MonthEnd(-1)\n",
    "\n",
    "for i in range(1, 5):\n",
    "    cv_train_range = pd.date_range(start=cv_train_start, end=cv_train_end, freq='M')\n",
    "\n",
    "    train_idxs[i] = list(range(X_train.index.get_loc(cv_train_range[0]).start, \n",
    "                                       X_train.index.get_loc(cv_train_range[-1]).stop\n",
    "                                   ))\n",
    "    print(f'split{i}:', cv_train_range)\n",
    "    cv_train_end += pd.tseries.offsets.MonthEnd(-1)\n"
   ]
  },
  {
   "cell_type": "markdown",
   "metadata": {},
   "source": [
    "### 5.2.3 verify index ranges"
   ]
  },
  {
   "cell_type": "code",
   "execution_count": 86,
   "metadata": {},
   "outputs": [
    {
     "name": "stdout",
     "output_type": "stream",
     "text": [
      "0 782711 .. 782712 978389\n",
      "0 587033 .. 587034 782711\n",
      "0 391355 .. 391356 587033\n",
      "0 195677 .. 195678 391355\n"
     ]
    }
   ],
   "source": [
    "# check the indexes of the cross validation sets\n",
    "print(train_idxs[1][0], train_idxs[1][-1], '..', test_idxs[1][0], test_idxs[1][-1])\n",
    "print(train_idxs[2][0], train_idxs[2][-1], '..', test_idxs[2][0], test_idxs[2][-1])\n",
    "print(train_idxs[3][0], train_idxs[3][-1], '..', test_idxs[3][0], test_idxs[3][-1])\n",
    "print(train_idxs[4][0], train_idxs[4][-1], '..', test_idxs[4][0], test_idxs[4][-1])"
   ]
  },
  {
   "cell_type": "markdown",
   "metadata": {},
   "source": [
    "### 5.2.4 store to list"
   ]
  },
  {
   "cell_type": "code",
   "execution_count": 87,
   "metadata": {},
   "outputs": [],
   "source": [
    "tscv = [\n",
    " (train_idxs[1], test_idxs[1]),\n",
    " (train_idxs[2], test_idxs[2]),\n",
    " (train_idxs[3], test_idxs[3]),\n",
    " (train_idxs[4], test_idxs[4])\n",
    "]"
   ]
  },
  {
   "cell_type": "markdown",
   "metadata": {},
   "source": [
    "## 5.3 Pipelines"
   ]
  },
  {
   "cell_type": "code",
   "execution_count": 92,
   "metadata": {},
   "outputs": [],
   "source": [
    "# Create pipelines dictionary\n",
    "pipelines = {\n",
    "    #'enet': make_pipeline(StandardScaler(), ElasticNet(random_state=123)),\n",
    "    #'rf' : make_pipeline(StandardScaler(), RandomForestRegressor(random_state=123)),\n",
    "    'gb' : make_pipeline(StandardScaler(), GradientBoostingRegressor(random_state=123))\n",
    "    \n",
    "                         }         "
   ]
  },
  {
   "cell_type": "markdown",
   "metadata": {},
   "source": [
    "## 5.4 Hyperparameters"
   ]
  },
  {
   "cell_type": "code",
   "execution_count": 93,
   "metadata": {},
   "outputs": [],
   "source": [
    "# Elastic Net hyperparameters\n",
    "enet_hyperparameters = { \n",
    "    'elasticnet__alpha': [0.001, 0.01, 0.1, 1, 5, 10],                        \n",
    "    'elasticnet__l1_ratio' : [0.1, 0.3, 0.5, 0.7, 0.9]\n",
    "}\n",
    "\n",
    "# Random forest hyperparameters\n",
    "rf_hyperparameters = { \n",
    "    'randomforestregressor__n_estimators' : [50, 100, 200],\n",
    "    'randomforestregressor__max_features': ['auto', 'sqrt', 0.33],\n",
    "    'randomforestregressor__min_samples_leaf': [1, 3, 5]\n",
    "}\n",
    "\n",
    "# Boosted tree hyperparameters\n",
    "gb_hyperparameters = { \n",
    "    #'gradientboostingregressor__n_estimators': [100, 200],\n",
    "    #'gradientboostingregressor__learning_rate' : [0.05, 0.1, 0.2],\n",
    "    #'gradientboostingregressor__max_depth': [1, 3, 5]\n",
    "    'gradientboostingregressor__n_estimators': [100],\n",
    "    'gradientboostingregressor__learning_rate' : [0.1],\n",
    "    'gradientboostingregressor__max_depth': [3]    \n",
    "}"
   ]
  },
  {
   "cell_type": "code",
   "execution_count": 94,
   "metadata": {},
   "outputs": [],
   "source": [
    "# Create hyperparameters dictionary\n",
    "hyperparameters = {\n",
    "    'enet' : enet_hyperparameters,\n",
    "    'rf' : rf_hyperparameters,\n",
    "    'gb' : gb_hyperparameters\n",
    "}"
   ]
  },
  {
   "cell_type": "markdown",
   "metadata": {},
   "source": [
    "## 5.5 Fit and store models"
   ]
  },
  {
   "cell_type": "code",
   "execution_count": 95,
   "metadata": {},
   "outputs": [
    {
     "name": "stdout",
     "output_type": "stream",
     "text": [
      "gb has been fitted.\n"
     ]
    }
   ],
   "source": [
    "# empty dict to later store fitted models\n",
    "fitted_models = {}\n",
    "\n",
    "# loop through model pipelines, tuning each one and saving it to fitted_models\n",
    "for name, pipeline in pipelines.items():\n",
    "    # initialize grid\n",
    "    model = GridSearchCV(pipeline, hyperparameters[name], cv=tscv, n_jobs=-1)\n",
    "    \n",
    "    # fit model\n",
    "    model.fit(X_train, y_train)\n",
    "    \n",
    "    # store fitted model\n",
    "    fitted_models[name] = model\n",
    "    \n",
    "    # print\n",
    "    print(name, 'has been fitted.')"
   ]
  },
  {
   "cell_type": "markdown",
   "metadata": {},
   "source": [
    "## 5.6 Evaluate models"
   ]
  },
  {
   "cell_type": "code",
   "execution_count": 96,
   "metadata": {},
   "outputs": [
    {
     "name": "stdout",
     "output_type": "stream",
     "text": [
      "gb\n",
      "----------\n",
      "cv score : 0.5559304682948603\n",
      "RMSE     : 0.9551704311974707\n",
      "\n"
     ]
    }
   ],
   "source": [
    "for name, model in fitted_models.items():\n",
    "    pred = model.predict(X_test)\n",
    "    print(name)\n",
    "    print('----------' )\n",
    "    print('cv score :', model.best_score_)\n",
    "    print('RMSE     :', mean_squared_error(y_test, pred, squared=False))\n",
    "    print()"
   ]
  },
  {
   "cell_type": "markdown",
   "metadata": {},
   "source": [
    "___The gradient performs best as indicated by both the cross validation score and the Root Mean Square Error (RMSE)___"
   ]
  },
  {
   "cell_type": "code",
   "execution_count": 154,
   "metadata": {},
   "outputs": [
    {
     "data": {
      "text/plain": [
       "Pipeline(memory=None,\n",
       "         steps=[('standardscaler',\n",
       "                 StandardScaler(copy=True, with_mean=True, with_std=True)),\n",
       "                ('gradientboostingregressor',\n",
       "                 GradientBoostingRegressor(alpha=0.9, ccp_alpha=0.0,\n",
       "                                           criterion='friedman_mse', init=None,\n",
       "                                           learning_rate=0.1, loss='ls',\n",
       "                                           max_depth=3, max_features=None,\n",
       "                                           max_leaf_nodes=None,\n",
       "                                           min_impurity_decrease=0.0,\n",
       "                                           min_impurity_split=None,\n",
       "                                           min_samples_leaf=1,\n",
       "                                           min_samples_split=2,\n",
       "                                           min_weight_fraction_leaf=0.0,\n",
       "                                           n_estimators=100,\n",
       "                                           n_iter_no_change=None,\n",
       "                                           presort='deprecated',\n",
       "                                           random_state=123, subsample=1.0,\n",
       "                                           tol=0.0001, validation_fraction=0.1,\n",
       "                                           verbose=0, warm_start=False))],\n",
       "         verbose=False)"
      ]
     },
     "execution_count": 154,
     "metadata": {},
     "output_type": "execute_result"
    }
   ],
   "source": [
    "# examine the parameters of the best estimator\n",
    "from sklearn import set_config\n",
    "set_config(print_changed_only=False)\n",
    "fitted_models['gb'].best_estimator_"
   ]
  },
  {
   "cell_type": "markdown",
   "metadata": {},
   "source": [
    "## 5.7 Save best model (estimator)"
   ]
  },
  {
   "cell_type": "code",
   "execution_count": 125,
   "metadata": {},
   "outputs": [],
   "source": [
    "# save the best esimator\n",
    "with open('model_ts.pkl', 'wb') as f:\n",
    "    pickle.dump(fitted_models['gb'].best_estimator_, f)"
   ]
  },
  {
   "cell_type": "markdown",
   "metadata": {},
   "source": [
    "## 5.8 Feature importance"
   ]
  },
  {
   "cell_type": "code",
   "execution_count": 97,
   "metadata": {},
   "outputs": [],
   "source": [
    "# Helper function for plotting feature importances\n",
    "def plot_feature_importances(columns, feature_importances, show_top_n=10):\n",
    "    feats = dict( zip(columns, feature_importances) )\n",
    "    global imp\n",
    "    imp = pd.DataFrame.from_dict(feats, orient='index').rename(columns={0: 'Gini-importance'})\n",
    "    imp.sort_values(by='Gini-importance').tail(show_top_n).plot(kind='barh', figsize=(8,8))\n",
    "    plt.show()\n"
   ]
  },
  {
   "cell_type": "code",
   "execution_count": 98,
   "metadata": {},
   "outputs": [
    {
     "data": {
      "image/png": "[encoded data removed]",
      "text/plain": [
       "<Figure size 576x576 with 1 Axes>"
      ]
     },
     "metadata": {},
     "output_type": "display_data"
    }
   ],
   "source": [
    "plot_feature_importances(X_train.columns, fitted_models['gb'].best_estimator_[1].feature_importances_)"
   ]
  },
  {
   "cell_type": "markdown",
   "metadata": {},
   "source": [
    "___The less important features could be removed to reduce model complexity.___"
   ]
  },
  {
   "cell_type": "markdown",
   "metadata": {},
   "source": [
    "# 6. New data\n",
    "The test data set will be loaded and prepared to meet the input requirements of the fitted model. The time series features can be reused from the abt dataframe. The lifecycle and item category mean features will be calculated. \n",
    "\n",
    "Finally, the submission data will be prepared to be uploaded to kaggle.\n"
   ]
  },
  {
   "cell_type": "markdown",
   "metadata": {},
   "source": [
    "## 6.1 Shift time-series features"
   ]
  },
  {
   "cell_type": "code",
   "execution_count": 109,
   "metadata": {},
   "outputs": [
    {
     "data": {
      "text/html": [
       "<div>\n",
       "<style scoped>\n",
       "    .dataframe tbody tr th:only-of-type {\n",
       "        vertical-align: middle;\n",
       "    }\n",
       "\n",
       "    .dataframe tbody tr th {\n",
       "        vertical-align: top;\n",
       "    }\n",
       "\n",
       "    .dataframe thead th {\n",
       "        text-align: right;\n",
       "    }\n",
       "</style>\n",
       "<table border=\"1\" class=\"dataframe\">\n",
       "  <thead>\n",
       "    <tr style=\"text-align: right;\">\n",
       "      <th></th>\n",
       "      <th>date</th>\n",
       "      <th>shop_id</th>\n",
       "      <th>item_id</th>\n",
       "      <th>shift1</th>\n",
       "      <th>rolling2</th>\n",
       "      <th>rolling3</th>\n",
       "      <th>shift2</th>\n",
       "      <th>shift3</th>\n",
       "    </tr>\n",
       "  </thead>\n",
       "  <tbody>\n",
       "    <tr>\n",
       "      <th>6653049</th>\n",
       "      <td>2015-11-30</td>\n",
       "      <td>59</td>\n",
       "      <td>22164</td>\n",
       "      <td>0.0</td>\n",
       "      <td>0.0</td>\n",
       "      <td>0.0</td>\n",
       "      <td>0.0</td>\n",
       "      <td>0.0</td>\n",
       "    </tr>\n",
       "    <tr>\n",
       "      <th>6653050</th>\n",
       "      <td>2015-11-30</td>\n",
       "      <td>59</td>\n",
       "      <td>22166</td>\n",
       "      <td>0.0</td>\n",
       "      <td>0.0</td>\n",
       "      <td>0.0</td>\n",
       "      <td>0.0</td>\n",
       "      <td>0.0</td>\n",
       "    </tr>\n",
       "    <tr>\n",
       "      <th>6653051</th>\n",
       "      <td>2015-11-30</td>\n",
       "      <td>59</td>\n",
       "      <td>22167</td>\n",
       "      <td>0.0</td>\n",
       "      <td>0.0</td>\n",
       "      <td>0.0</td>\n",
       "      <td>0.0</td>\n",
       "      <td>0.0</td>\n",
       "    </tr>\n",
       "  </tbody>\n",
       "</table>\n",
       "</div>"
      ],
      "text/plain": [
       "              date  shop_id  item_id  shift1  rolling2  rolling3  shift2  \\\n",
       "6653049 2015-11-30       59    22164     0.0       0.0       0.0     0.0   \n",
       "6653050 2015-11-30       59    22166     0.0       0.0       0.0     0.0   \n",
       "6653051 2015-11-30       59    22167     0.0       0.0       0.0     0.0   \n",
       "\n",
       "         shift3  \n",
       "6653049     0.0  \n",
       "6653050     0.0  \n",
       "6653051     0.0  "
      ]
     },
     "execution_count": 109,
     "metadata": {},
     "output_type": "execute_result"
    }
   ],
   "source": [
    "abt_cols_to_keep = ['shop_id', 'item_id', 'target', \n",
    "                    'rolling2_new', 'rolling3_new', 'shift1', 'shift2']\n",
    "\n",
    "abt_cols_to_rename = ['shop_id', 'item_id', 'shift1', \n",
    "                    'rolling2', 'rolling3', 'shift2', 'shift3']\n",
    "\n",
    "# keep time-series columns\n",
    "new_ts = abt.copy()[abt_cols_to_keep]\n",
    "# rename \n",
    "new_ts.columns = abt_cols_to_rename\n",
    "\n",
    "# update date index\n",
    "new_ts.index = new_ts.index + pd.tseries.offsets.MonthEnd(1)\n",
    "new_ts.reset_index(inplace=True)\n",
    "new_ts.tail(3)\n"
   ]
  },
  {
   "cell_type": "code",
   "execution_count": 117,
   "metadata": {},
   "outputs": [],
   "source": [
    "def merge_time_series(df):\n",
    "    \"\"\"\n",
    "    merge the time series data frame with the test data\n",
    "    \"\"\"\n",
    "    return (\n",
    "        df\n",
    "        .merge(new_ts,on=['shop_id', 'item_id'], how='left')\n",
    "        .fillna({'date' : pd.Timestamp('2015-11-30')})\n",
    "        .set_index('date')\n",
    "    )"
   ]
  },
  {
   "cell_type": "markdown",
   "metadata": {},
   "source": [
    "## 6.2 New ABT pipeline"
   ]
  },
  {
   "cell_type": "code",
   "execution_count": 123,
   "metadata": {},
   "outputs": [],
   "source": [
    "def clean_up_new_data(df):\n",
    "    \"\"\"\n",
    "    1. drop unwanted columns\n",
    "    2. filter only for Nov 2015 with test ids\n",
    "    3. fill nulls\n",
    "    4. set date index\n",
    "    5. sort column axis\n",
    "    \"\"\"\n",
    "    column_list = ['item_category_id', 'item_start', 'item_end',\n",
    "                   'shift1_cat_mean', 'rolling3_cat_mean', 'shift1_shop_total', 'shift1_month_total', 'shop_weight']\n",
    "    \n",
    "    return (\n",
    "        df\n",
    "        .reset_index()\n",
    "        .drop(column_list, axis=1)\n",
    "        .sort_values(['date','shop_id', 'item_id'])\n",
    "        .query(\"date == '2015-11-30' & ID >= 0\")\n",
    "        .fillna({'startoflife': 1,\n",
    "                 'endoflife': 0})\n",
    "        .fillna(0)\n",
    "        .set_index('date')\n",
    "        .sort_index(axis=1)\n",
    "        .astype({'ID': int})    \n",
    "    )"
   ]
  },
  {
   "cell_type": "code",
   "execution_count": 122,
   "metadata": {
    "scrolled": true
   },
   "outputs": [
    {
     "name": "stdout",
     "output_type": "stream",
     "text": [
      "(214200, 12)\n"
     ]
    },
    {
     "data": {
      "text/html": [
       "<div>\n",
       "<style scoped>\n",
       "    .dataframe tbody tr th:only-of-type {\n",
       "        vertical-align: middle;\n",
       "    }\n",
       "\n",
       "    .dataframe tbody tr th {\n",
       "        vertical-align: top;\n",
       "    }\n",
       "\n",
       "    .dataframe thead th {\n",
       "        text-align: right;\n",
       "    }\n",
       "</style>\n",
       "<table border=\"1\" class=\"dataframe\">\n",
       "  <thead>\n",
       "    <tr style=\"text-align: right;\">\n",
       "      <th></th>\n",
       "      <th>ID</th>\n",
       "      <th>endoflife</th>\n",
       "      <th>item_cat_mean_rolling3_weighted</th>\n",
       "      <th>item_cat_mean_shift1_weighted</th>\n",
       "      <th>item_id</th>\n",
       "      <th>rolling2</th>\n",
       "      <th>rolling3</th>\n",
       "      <th>shift1</th>\n",
       "      <th>shift2</th>\n",
       "      <th>shift3</th>\n",
       "      <th>shop_id</th>\n",
       "      <th>startoflife</th>\n",
       "    </tr>\n",
       "    <tr>\n",
       "      <th>date</th>\n",
       "      <th></th>\n",
       "      <th></th>\n",
       "      <th></th>\n",
       "      <th></th>\n",
       "      <th></th>\n",
       "      <th></th>\n",
       "      <th></th>\n",
       "      <th></th>\n",
       "      <th></th>\n",
       "      <th></th>\n",
       "      <th></th>\n",
       "      <th></th>\n",
       "    </tr>\n",
       "  </thead>\n",
       "  <tbody>\n",
       "    <tr>\n",
       "      <th>2015-11-30</th>\n",
       "      <td>149242</td>\n",
       "      <td>0</td>\n",
       "      <td>0.001955</td>\n",
       "      <td>0.002329</td>\n",
       "      <td>22164</td>\n",
       "      <td>0.0</td>\n",
       "      <td>0.0</td>\n",
       "      <td>0.0</td>\n",
       "      <td>0.0</td>\n",
       "      <td>0.0</td>\n",
       "      <td>59</td>\n",
       "      <td>0</td>\n",
       "    </tr>\n",
       "    <tr>\n",
       "      <th>2015-11-30</th>\n",
       "      <td>152328</td>\n",
       "      <td>0</td>\n",
       "      <td>0.000000</td>\n",
       "      <td>0.000000</td>\n",
       "      <td>22166</td>\n",
       "      <td>0.0</td>\n",
       "      <td>0.0</td>\n",
       "      <td>0.0</td>\n",
       "      <td>0.0</td>\n",
       "      <td>0.0</td>\n",
       "      <td>59</td>\n",
       "      <td>0</td>\n",
       "    </tr>\n",
       "    <tr>\n",
       "      <th>2015-11-30</th>\n",
       "      <td>148377</td>\n",
       "      <td>0</td>\n",
       "      <td>0.000345</td>\n",
       "      <td>0.000173</td>\n",
       "      <td>22167</td>\n",
       "      <td>0.0</td>\n",
       "      <td>0.0</td>\n",
       "      <td>0.0</td>\n",
       "      <td>0.0</td>\n",
       "      <td>0.0</td>\n",
       "      <td>59</td>\n",
       "      <td>0</td>\n",
       "    </tr>\n",
       "  </tbody>\n",
       "</table>\n",
       "</div>"
      ],
      "text/plain": [
       "                ID  endoflife  item_cat_mean_rolling3_weighted  \\\n",
       "date                                                             \n",
       "2015-11-30  149242          0                         0.001955   \n",
       "2015-11-30  152328          0                         0.000000   \n",
       "2015-11-30  148377          0                         0.000345   \n",
       "\n",
       "            item_cat_mean_shift1_weighted  item_id  rolling2  rolling3  \\\n",
       "date                                                                     \n",
       "2015-11-30                       0.002329    22164       0.0       0.0   \n",
       "2015-11-30                       0.000000    22166       0.0       0.0   \n",
       "2015-11-30                       0.000173    22167       0.0       0.0   \n",
       "\n",
       "            shift1  shift2  shift3  shop_id  startoflife  \n",
       "date                                                      \n",
       "2015-11-30     0.0     0.0     0.0       59            0  \n",
       "2015-11-30     0.0     0.0     0.0       59            0  \n",
       "2015-11-30     0.0     0.0     0.0       59            0  "
      ]
     },
     "execution_count": 122,
     "metadata": {},
     "output_type": "execute_result"
    }
   ],
   "source": [
    "# pandas pipeline for new data ABT\n",
    "abt_new = (\n",
    "    df_test\n",
    "    .copy()\n",
    "    .pipe(merge_time_series)\n",
    "    .pipe(add_lifecycle_features)\n",
    "    .pipe(add_item_category_mean_features)\n",
    "    .pipe(clean_up_new_data)\n",
    ")\n",
    "\n",
    "print(abt_new.shape)\n",
    "abt_new.tail(3)"
   ]
  },
  {
   "cell_type": "markdown",
   "metadata": {},
   "source": [
    "## 6.3 Import model and generate prediction"
   ]
  },
  {
   "cell_type": "code",
   "execution_count": 126,
   "metadata": {},
   "outputs": [
    {
     "data": {
      "text/plain": [
       "Pipeline(steps=[('standardscaler', StandardScaler()),\n",
       "                ('gradientboostingregressor',\n",
       "                 GradientBoostingRegressor(random_state=123))])"
      ]
     },
     "execution_count": 126,
     "metadata": {},
     "output_type": "execute_result"
    }
   ],
   "source": [
    "#import model\n",
    "model_ts = pickle.load( open( 'model_ts.pkl', 'rb') )\n",
    "model_ts"
   ]
  },
  {
   "cell_type": "code",
   "execution_count": 127,
   "metadata": {},
   "outputs": [
    {
     "data": {
      "text/html": [
       "<div>\n",
       "<style scoped>\n",
       "    .dataframe tbody tr th:only-of-type {\n",
       "        vertical-align: middle;\n",
       "    }\n",
       "\n",
       "    .dataframe tbody tr th {\n",
       "        vertical-align: top;\n",
       "    }\n",
       "\n",
       "    .dataframe thead th {\n",
       "        text-align: right;\n",
       "    }\n",
       "</style>\n",
       "<table border=\"1\" class=\"dataframe\">\n",
       "  <thead>\n",
       "    <tr style=\"text-align: right;\">\n",
       "      <th></th>\n",
       "      <th>ID</th>\n",
       "      <th>endoflife</th>\n",
       "      <th>item_cat_mean_rolling3_weighted</th>\n",
       "      <th>item_cat_mean_shift1_weighted</th>\n",
       "      <th>item_id</th>\n",
       "      <th>rolling2</th>\n",
       "      <th>rolling3</th>\n",
       "      <th>shift1</th>\n",
       "      <th>shift2</th>\n",
       "      <th>shift3</th>\n",
       "      <th>shop_id</th>\n",
       "      <th>startoflife</th>\n",
       "      <th>item_cnt_month</th>\n",
       "    </tr>\n",
       "    <tr>\n",
       "      <th>date</th>\n",
       "      <th></th>\n",
       "      <th></th>\n",
       "      <th></th>\n",
       "      <th></th>\n",
       "      <th></th>\n",
       "      <th></th>\n",
       "      <th></th>\n",
       "      <th></th>\n",
       "      <th></th>\n",
       "      <th></th>\n",
       "      <th></th>\n",
       "      <th></th>\n",
       "      <th></th>\n",
       "    </tr>\n",
       "  </thead>\n",
       "  <tbody>\n",
       "    <tr>\n",
       "      <th>2015-11-30</th>\n",
       "      <td>149242</td>\n",
       "      <td>0</td>\n",
       "      <td>0.001955</td>\n",
       "      <td>0.002329</td>\n",
       "      <td>22164</td>\n",
       "      <td>0.0</td>\n",
       "      <td>0.0</td>\n",
       "      <td>0.0</td>\n",
       "      <td>0.0</td>\n",
       "      <td>0.0</td>\n",
       "      <td>59</td>\n",
       "      <td>0</td>\n",
       "      <td>0.1</td>\n",
       "    </tr>\n",
       "    <tr>\n",
       "      <th>2015-11-30</th>\n",
       "      <td>152328</td>\n",
       "      <td>0</td>\n",
       "      <td>0.000000</td>\n",
       "      <td>0.000000</td>\n",
       "      <td>22166</td>\n",
       "      <td>0.0</td>\n",
       "      <td>0.0</td>\n",
       "      <td>0.0</td>\n",
       "      <td>0.0</td>\n",
       "      <td>0.0</td>\n",
       "      <td>59</td>\n",
       "      <td>0</td>\n",
       "      <td>0.0</td>\n",
       "    </tr>\n",
       "    <tr>\n",
       "      <th>2015-11-30</th>\n",
       "      <td>148377</td>\n",
       "      <td>0</td>\n",
       "      <td>0.000345</td>\n",
       "      <td>0.000173</td>\n",
       "      <td>22167</td>\n",
       "      <td>0.0</td>\n",
       "      <td>0.0</td>\n",
       "      <td>0.0</td>\n",
       "      <td>0.0</td>\n",
       "      <td>0.0</td>\n",
       "      <td>59</td>\n",
       "      <td>0</td>\n",
       "      <td>0.0</td>\n",
       "    </tr>\n",
       "  </tbody>\n",
       "</table>\n",
       "</div>"
      ],
      "text/plain": [
       "                ID  endoflife  item_cat_mean_rolling3_weighted  \\\n",
       "date                                                             \n",
       "2015-11-30  149242          0                         0.001955   \n",
       "2015-11-30  152328          0                         0.000000   \n",
       "2015-11-30  148377          0                         0.000345   \n",
       "\n",
       "            item_cat_mean_shift1_weighted  item_id  rolling2  rolling3  \\\n",
       "date                                                                     \n",
       "2015-11-30                       0.002329    22164       0.0       0.0   \n",
       "2015-11-30                       0.000000    22166       0.0       0.0   \n",
       "2015-11-30                       0.000173    22167       0.0       0.0   \n",
       "\n",
       "            shift1  shift2  shift3  shop_id  startoflife  item_cnt_month  \n",
       "date                                                                      \n",
       "2015-11-30     0.0     0.0     0.0       59            0             0.1  \n",
       "2015-11-30     0.0     0.0     0.0       59            0             0.0  \n",
       "2015-11-30     0.0     0.0     0.0       59            0             0.0  "
      ]
     },
     "execution_count": 127,
     "metadata": {},
     "output_type": "execute_result"
    }
   ],
   "source": [
    "# new column\n",
    "abt_new['item_cnt_month'] = np.round(model_ts\n",
    "                                     .predict(abt_new.drop(['shop_id', 'item_id', 'ID'], axis=1))\n",
    "                                     .clip(0, 20),1)\n",
    "abt_new.tail(3)"
   ]
  },
  {
   "cell_type": "markdown",
   "metadata": {},
   "source": [
    "## 6.4 Create kaggle submission file"
   ]
  },
  {
   "cell_type": "code",
   "execution_count": 128,
   "metadata": {},
   "outputs": [
    {
     "data": {
      "text/html": [
       "<div>\n",
       "<style scoped>\n",
       "    .dataframe tbody tr th:only-of-type {\n",
       "        vertical-align: middle;\n",
       "    }\n",
       "\n",
       "    .dataframe tbody tr th {\n",
       "        vertical-align: top;\n",
       "    }\n",
       "\n",
       "    .dataframe thead th {\n",
       "        text-align: right;\n",
       "    }\n",
       "</style>\n",
       "<table border=\"1\" class=\"dataframe\">\n",
       "  <thead>\n",
       "    <tr style=\"text-align: right;\">\n",
       "      <th></th>\n",
       "      <th>item_cnt_month</th>\n",
       "    </tr>\n",
       "    <tr>\n",
       "      <th>ID</th>\n",
       "      <th></th>\n",
       "    </tr>\n",
       "  </thead>\n",
       "  <tbody>\n",
       "    <tr>\n",
       "      <th>0</th>\n",
       "      <td>0.7</td>\n",
       "    </tr>\n",
       "    <tr>\n",
       "      <th>1</th>\n",
       "      <td>0.1</td>\n",
       "    </tr>\n",
       "    <tr>\n",
       "      <th>2</th>\n",
       "      <td>1.0</td>\n",
       "    </tr>\n",
       "    <tr>\n",
       "      <th>3</th>\n",
       "      <td>0.3</td>\n",
       "    </tr>\n",
       "    <tr>\n",
       "      <th>4</th>\n",
       "      <td>0.3</td>\n",
       "    </tr>\n",
       "    <tr>\n",
       "      <th>...</th>\n",
       "      <td>...</td>\n",
       "    </tr>\n",
       "    <tr>\n",
       "      <th>214195</th>\n",
       "      <td>0.2</td>\n",
       "    </tr>\n",
       "    <tr>\n",
       "      <th>214196</th>\n",
       "      <td>0.1</td>\n",
       "    </tr>\n",
       "    <tr>\n",
       "      <th>214197</th>\n",
       "      <td>0.1</td>\n",
       "    </tr>\n",
       "    <tr>\n",
       "      <th>214198</th>\n",
       "      <td>0.1</td>\n",
       "    </tr>\n",
       "    <tr>\n",
       "      <th>214199</th>\n",
       "      <td>0.1</td>\n",
       "    </tr>\n",
       "  </tbody>\n",
       "</table>\n",
       "<p>214200 rows × 1 columns</p>\n",
       "</div>"
      ],
      "text/plain": [
       "        item_cnt_month\n",
       "ID                    \n",
       "0                  0.7\n",
       "1                  0.1\n",
       "2                  1.0\n",
       "3                  0.3\n",
       "4                  0.3\n",
       "...                ...\n",
       "214195             0.2\n",
       "214196             0.1\n",
       "214197             0.1\n",
       "214198             0.1\n",
       "214199             0.1\n",
       "\n",
       "[214200 rows x 1 columns]"
      ]
     },
     "execution_count": 128,
     "metadata": {},
     "output_type": "execute_result"
    }
   ],
   "source": [
    "df_submission = (\n",
    "    abt_new[['ID', 'item_cnt_month']]\n",
    "    .copy()\n",
    "    .reset_index()\n",
    "    .drop(['date'], axis=1)\n",
    "    .set_index('ID')\n",
    "    .sort_index()\n",
    ")\n",
    "\n",
    "df_submission    "
   ]
  },
  {
   "cell_type": "code",
   "execution_count": 129,
   "metadata": {},
   "outputs": [],
   "source": [
    "# dataframe to csv\n",
    "df_submission.to_csv('submission.csv', index=True)"
   ]
  },
  {
   "cell_type": "markdown",
   "metadata": {},
   "source": [
    "# 7. Insights and next steps\n",
    "\n",
    "### Winning model\n",
    "The winning model was a gradient boosting regressor.\n",
    "- cv score : 0.56\n",
    "- RMSE     : 0.96\n",
    "\n",
    "### Kaggle result\n",
    "- Score : **RMSE 1.01**\n",
    "- Postition: **4611 /10179 (45%)**\n",
    "\n",
    "The current leading score is 0.75 RMSE. I'm pleased as a beginner to break into the top 50, however I would like to improve on this score in future iterations.\n",
    "\n",
    "### Reflection\n",
    "There were several challenges in this project. The volume of train data was an issue and I suffered from kernel restarts when preparing the time series matrix. Reducing the data to only the shops used in the train data helped, however the issue remaining when it came to model training with hyperparameter tuning. Further reducing the set to train on only items in the test set helped. The cross-validation score decreased, but the kaggle score was unaffected.\n",
    "\n",
    "Another major challenge was how to interpret the test data. Why were select sets of shops and items included? In the real world, the item lifecycle would help determine which shops and items you need to predict the sales of. The training data could be adjusted to reflect this. \n",
    "\n",
    "\n",
    "### Next steps\n",
    "- Data cleaning\n",
    "    - clip outliers rather than removing them\n",
    "- Feature engineering\n",
    "    - Principale Component Analysis on shops with the top variance\n",
    "- Hyperparameter tuning\n",
    "    - the gradient boosting regressor is known for high performance with extensive tuning. More research into the tuning possibilities should improve performace.\n",
    "- Classifier\n",
    "    - classifying shops into groups that buy specific items at a certain time.\n",
    "- Post-processing\n",
    "    - analyze which shops perform poorest after model training and action\n",
    "\n",
    "\n"
   ]
  },
  {
   "cell_type": "code",
   "execution_count": null,
   "metadata": {},
   "outputs": [],
   "source": []
  }
 ],
 "metadata": {
  "kernelspec": {
   "display_name": "Python 3",
   "language": "python",
   "name": "python3"
  }
 },
 "nbformat": 4,
 "nbformat_minor": 4
}
